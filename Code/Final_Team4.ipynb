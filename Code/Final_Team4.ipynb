{
  "cells": [
    {
      "cell_type": "code",
      "execution_count": null,
      "metadata": {
        "id": "TR1Udayqsmit"
      },
      "outputs": [],
      "source": [
        "import pandas as pd\n",
        "import numpy as np\n",
        "import matplotlib.pyplot as plt\n",
        "import seaborn as sns\n",
        "from sklearn.preprocessing import normalize\n",
        "from sklearn.impute import KNNImputer\n",
        "from sklearn.model_selection import train_test_split,cross_val_score\n",
        "from sklearn.preprocessing import OrdinalEncoder\n",
        "from sklearn import preprocessing\n",
        "from sklearn.impute import SimpleImputer\n",
        "from sklearn.preprocessing import OneHotEncoder\n",
        "from sklearn.linear_model import SGDClassifier, LogisticRegression\n",
        "from mlxtend.evaluate import bootstrap_point632_score\n",
        "import statsmodels.api as sm\n",
        "from sklearn.metrics import accuracy_score\n",
        "from sklearn.model_selection import GridSearchCV\n",
        "from sklearn.metrics import confusion_matrix\n",
        "from sklearn.metrics import classification_report\n",
        "from sklearn.svm import SVC\n",
        "from sklearn import svm\n",
        "import sklearn.metrics as metrics\n",
        "import sklearn.metrics as metrics\n",
        "from sklearn.ensemble import RandomForestClassifier\n",
        "from sklearn.neighbors import KNeighborsClassifier\n",
        "from keras import models\n",
        "from keras import layers\n",
        "from tensorflow.keras.wrappers.scikit_learn import KerasRegressor\n",
        "import keras\n",
        "from keras.models import Sequential\n",
        "from keras.layers import Dense\n",
        "import imblearn\n",
        "from imblearn.under_sampling import RandomUnderSampler\n",
        "from imblearn.over_sampling import SMOTE\n",
        "from collections import Counter\n",
        "\n",
        "\n"
      ]
    },
    {
      "cell_type": "code",
      "execution_count": null,
      "metadata": {
        "id": "ENMB_jYMtCSY"
      },
      "outputs": [],
      "source": [
        "data=pd.read_csv('bank-full.csv', sep=';')"
      ]
    },
    {
      "cell_type": "code",
      "execution_count": null,
      "metadata": {
        "colab": {
          "base_uri": "https://localhost:8080/"
        },
        "id": "u8JBXSvUtJDt",
        "outputId": "602f9985-6cdc-4531-8090-108d4c821eee"
      },
      "outputs": [
        {
          "output_type": "execute_result",
          "data": {
            "text/plain": [
              "(45211, 17)"
            ]
          },
          "metadata": {},
          "execution_count": 966
        }
      ],
      "source": [
        "data.shape"
      ]
    },
    {
      "cell_type": "code",
      "execution_count": null,
      "metadata": {
        "colab": {
          "base_uri": "https://localhost:8080/"
        },
        "id": "EB26CAR-tb9Z",
        "outputId": "e2a3eb4d-51ac-46bf-e8aa-21ee7a3b6116"
      },
      "outputs": [
        {
          "output_type": "execute_result",
          "data": {
            "text/plain": [
              "age          0\n",
              "job          0\n",
              "marital      0\n",
              "education    0\n",
              "default      0\n",
              "balance      0\n",
              "housing      0\n",
              "loan         0\n",
              "contact      0\n",
              "day          0\n",
              "month        0\n",
              "duration     0\n",
              "campaign     0\n",
              "pdays        0\n",
              "previous     0\n",
              "poutcome     0\n",
              "y            0\n",
              "dtype: int64"
            ]
          },
          "metadata": {},
          "execution_count": 967
        }
      ],
      "source": [
        "data.isna().sum()"
      ]
    },
    {
      "cell_type": "code",
      "execution_count": null,
      "metadata": {
        "colab": {
          "base_uri": "https://localhost:8080/",
          "height": 300
        },
        "id": "fQMhfI54tj5J",
        "outputId": "248a1cca-e447-495c-9fe2-fa5836c6c8cc"
      },
      "outputs": [
        {
          "output_type": "execute_result",
          "data": {
            "text/plain": [
              "                age        balance           day      duration      campaign  \\\n",
              "count  45211.000000   45211.000000  45211.000000  45211.000000  45211.000000   \n",
              "mean      40.936210    1362.272058     15.806419    258.163080      2.763841   \n",
              "std       10.618762    3044.765829      8.322476    257.527812      3.098021   \n",
              "min       18.000000   -8019.000000      1.000000      0.000000      1.000000   \n",
              "25%       33.000000      72.000000      8.000000    103.000000      1.000000   \n",
              "50%       39.000000     448.000000     16.000000    180.000000      2.000000   \n",
              "75%       48.000000    1428.000000     21.000000    319.000000      3.000000   \n",
              "max       95.000000  102127.000000     31.000000   4918.000000     63.000000   \n",
              "\n",
              "              pdays      previous  \n",
              "count  45211.000000  45211.000000  \n",
              "mean      40.197828      0.580323  \n",
              "std      100.128746      2.303441  \n",
              "min       -1.000000      0.000000  \n",
              "25%       -1.000000      0.000000  \n",
              "50%       -1.000000      0.000000  \n",
              "75%       -1.000000      0.000000  \n",
              "max      871.000000    275.000000  "
            ],
            "text/html": [
              "\n",
              "  <div id=\"df-61a31f4b-3fc6-456e-adb2-57fbb7753d0e\">\n",
              "    <div class=\"colab-df-container\">\n",
              "      <div>\n",
              "<style scoped>\n",
              "    .dataframe tbody tr th:only-of-type {\n",
              "        vertical-align: middle;\n",
              "    }\n",
              "\n",
              "    .dataframe tbody tr th {\n",
              "        vertical-align: top;\n",
              "    }\n",
              "\n",
              "    .dataframe thead th {\n",
              "        text-align: right;\n",
              "    }\n",
              "</style>\n",
              "<table border=\"1\" class=\"dataframe\">\n",
              "  <thead>\n",
              "    <tr style=\"text-align: right;\">\n",
              "      <th></th>\n",
              "      <th>age</th>\n",
              "      <th>balance</th>\n",
              "      <th>day</th>\n",
              "      <th>duration</th>\n",
              "      <th>campaign</th>\n",
              "      <th>pdays</th>\n",
              "      <th>previous</th>\n",
              "    </tr>\n",
              "  </thead>\n",
              "  <tbody>\n",
              "    <tr>\n",
              "      <th>count</th>\n",
              "      <td>45211.000000</td>\n",
              "      <td>45211.000000</td>\n",
              "      <td>45211.000000</td>\n",
              "      <td>45211.000000</td>\n",
              "      <td>45211.000000</td>\n",
              "      <td>45211.000000</td>\n",
              "      <td>45211.000000</td>\n",
              "    </tr>\n",
              "    <tr>\n",
              "      <th>mean</th>\n",
              "      <td>40.936210</td>\n",
              "      <td>1362.272058</td>\n",
              "      <td>15.806419</td>\n",
              "      <td>258.163080</td>\n",
              "      <td>2.763841</td>\n",
              "      <td>40.197828</td>\n",
              "      <td>0.580323</td>\n",
              "    </tr>\n",
              "    <tr>\n",
              "      <th>std</th>\n",
              "      <td>10.618762</td>\n",
              "      <td>3044.765829</td>\n",
              "      <td>8.322476</td>\n",
              "      <td>257.527812</td>\n",
              "      <td>3.098021</td>\n",
              "      <td>100.128746</td>\n",
              "      <td>2.303441</td>\n",
              "    </tr>\n",
              "    <tr>\n",
              "      <th>min</th>\n",
              "      <td>18.000000</td>\n",
              "      <td>-8019.000000</td>\n",
              "      <td>1.000000</td>\n",
              "      <td>0.000000</td>\n",
              "      <td>1.000000</td>\n",
              "      <td>-1.000000</td>\n",
              "      <td>0.000000</td>\n",
              "    </tr>\n",
              "    <tr>\n",
              "      <th>25%</th>\n",
              "      <td>33.000000</td>\n",
              "      <td>72.000000</td>\n",
              "      <td>8.000000</td>\n",
              "      <td>103.000000</td>\n",
              "      <td>1.000000</td>\n",
              "      <td>-1.000000</td>\n",
              "      <td>0.000000</td>\n",
              "    </tr>\n",
              "    <tr>\n",
              "      <th>50%</th>\n",
              "      <td>39.000000</td>\n",
              "      <td>448.000000</td>\n",
              "      <td>16.000000</td>\n",
              "      <td>180.000000</td>\n",
              "      <td>2.000000</td>\n",
              "      <td>-1.000000</td>\n",
              "      <td>0.000000</td>\n",
              "    </tr>\n",
              "    <tr>\n",
              "      <th>75%</th>\n",
              "      <td>48.000000</td>\n",
              "      <td>1428.000000</td>\n",
              "      <td>21.000000</td>\n",
              "      <td>319.000000</td>\n",
              "      <td>3.000000</td>\n",
              "      <td>-1.000000</td>\n",
              "      <td>0.000000</td>\n",
              "    </tr>\n",
              "    <tr>\n",
              "      <th>max</th>\n",
              "      <td>95.000000</td>\n",
              "      <td>102127.000000</td>\n",
              "      <td>31.000000</td>\n",
              "      <td>4918.000000</td>\n",
              "      <td>63.000000</td>\n",
              "      <td>871.000000</td>\n",
              "      <td>275.000000</td>\n",
              "    </tr>\n",
              "  </tbody>\n",
              "</table>\n",
              "</div>\n",
              "      <button class=\"colab-df-convert\" onclick=\"convertToInteractive('df-61a31f4b-3fc6-456e-adb2-57fbb7753d0e')\"\n",
              "              title=\"Convert this dataframe to an interactive table.\"\n",
              "              style=\"display:none;\">\n",
              "        \n",
              "  <svg xmlns=\"http://www.w3.org/2000/svg\" height=\"24px\"viewBox=\"0 0 24 24\"\n",
              "       width=\"24px\">\n",
              "    <path d=\"M0 0h24v24H0V0z\" fill=\"none\"/>\n",
              "    <path d=\"M18.56 5.44l.94 2.06.94-2.06 2.06-.94-2.06-.94-.94-2.06-.94 2.06-2.06.94zm-11 1L8.5 8.5l.94-2.06 2.06-.94-2.06-.94L8.5 2.5l-.94 2.06-2.06.94zm10 10l.94 2.06.94-2.06 2.06-.94-2.06-.94-.94-2.06-.94 2.06-2.06.94z\"/><path d=\"M17.41 7.96l-1.37-1.37c-.4-.4-.92-.59-1.43-.59-.52 0-1.04.2-1.43.59L10.3 9.45l-7.72 7.72c-.78.78-.78 2.05 0 2.83L4 21.41c.39.39.9.59 1.41.59.51 0 1.02-.2 1.41-.59l7.78-7.78 2.81-2.81c.8-.78.8-2.07 0-2.86zM5.41 20L4 18.59l7.72-7.72 1.47 1.35L5.41 20z\"/>\n",
              "  </svg>\n",
              "      </button>\n",
              "      \n",
              "  <style>\n",
              "    .colab-df-container {\n",
              "      display:flex;\n",
              "      flex-wrap:wrap;\n",
              "      gap: 12px;\n",
              "    }\n",
              "\n",
              "    .colab-df-convert {\n",
              "      background-color: #E8F0FE;\n",
              "      border: none;\n",
              "      border-radius: 50%;\n",
              "      cursor: pointer;\n",
              "      display: none;\n",
              "      fill: #1967D2;\n",
              "      height: 32px;\n",
              "      padding: 0 0 0 0;\n",
              "      width: 32px;\n",
              "    }\n",
              "\n",
              "    .colab-df-convert:hover {\n",
              "      background-color: #E2EBFA;\n",
              "      box-shadow: 0px 1px 2px rgba(60, 64, 67, 0.3), 0px 1px 3px 1px rgba(60, 64, 67, 0.15);\n",
              "      fill: #174EA6;\n",
              "    }\n",
              "\n",
              "    [theme=dark] .colab-df-convert {\n",
              "      background-color: #3B4455;\n",
              "      fill: #D2E3FC;\n",
              "    }\n",
              "\n",
              "    [theme=dark] .colab-df-convert:hover {\n",
              "      background-color: #434B5C;\n",
              "      box-shadow: 0px 1px 3px 1px rgba(0, 0, 0, 0.15);\n",
              "      filter: drop-shadow(0px 1px 2px rgba(0, 0, 0, 0.3));\n",
              "      fill: #FFFFFF;\n",
              "    }\n",
              "  </style>\n",
              "\n",
              "      <script>\n",
              "        const buttonEl =\n",
              "          document.querySelector('#df-61a31f4b-3fc6-456e-adb2-57fbb7753d0e button.colab-df-convert');\n",
              "        buttonEl.style.display =\n",
              "          google.colab.kernel.accessAllowed ? 'block' : 'none';\n",
              "\n",
              "        async function convertToInteractive(key) {\n",
              "          const element = document.querySelector('#df-61a31f4b-3fc6-456e-adb2-57fbb7753d0e');\n",
              "          const dataTable =\n",
              "            await google.colab.kernel.invokeFunction('convertToInteractive',\n",
              "                                                     [key], {});\n",
              "          if (!dataTable) return;\n",
              "\n",
              "          const docLinkHtml = 'Like what you see? Visit the ' +\n",
              "            '<a target=\"_blank\" href=https://colab.research.google.com/notebooks/data_table.ipynb>data table notebook</a>'\n",
              "            + ' to learn more about interactive tables.';\n",
              "          element.innerHTML = '';\n",
              "          dataTable['output_type'] = 'display_data';\n",
              "          await google.colab.output.renderOutput(dataTable, element);\n",
              "          const docLink = document.createElement('div');\n",
              "          docLink.innerHTML = docLinkHtml;\n",
              "          element.appendChild(docLink);\n",
              "        }\n",
              "      </script>\n",
              "    </div>\n",
              "  </div>\n",
              "  "
            ]
          },
          "metadata": {},
          "execution_count": 968
        }
      ],
      "source": [
        "data.describe()"
      ]
    },
    {
      "cell_type": "markdown",
      "metadata": {
        "id": "kGwJY5bkkf19"
      },
      "source": [
        "## Checking for duplicated rows"
      ]
    },
    {
      "cell_type": "code",
      "execution_count": null,
      "metadata": {
        "colab": {
          "base_uri": "https://localhost:8080/"
        },
        "id": "1Gl9NLJLke7H",
        "outputId": "3519ec97-6d33-4cf8-8f65-8d6789699712"
      },
      "outputs": [
        {
          "output_type": "execute_result",
          "data": {
            "text/plain": [
              "0"
            ]
          },
          "metadata": {},
          "execution_count": 969
        }
      ],
      "source": [
        "sum(data.duplicated())"
      ]
    },
    {
      "cell_type": "markdown",
      "metadata": {
        "id": "xLERPlWTep3Z"
      },
      "source": [
        "## Exclude the 'duration' column from the data set"
      ]
    },
    {
      "cell_type": "code",
      "execution_count": null,
      "metadata": {
        "colab": {
          "base_uri": "https://localhost:8080/",
          "height": 250
        },
        "id": "yacQOWrTepSA",
        "outputId": "53062079-7ce1-4426-ed22-ad9b6b2053ef"
      },
      "outputs": [
        {
          "output_type": "execute_result",
          "data": {
            "text/plain": [
              "   age           job  marital  education default  balance housing loan  \\\n",
              "0   58    management  married   tertiary      no     2143     yes   no   \n",
              "1   44    technician   single  secondary      no       29     yes   no   \n",
              "2   33  entrepreneur  married  secondary      no        2     yes  yes   \n",
              "3   47   blue-collar  married    unknown      no     1506     yes   no   \n",
              "4   33       unknown   single    unknown      no        1      no   no   \n",
              "\n",
              "   contact  day month  campaign  pdays  previous poutcome   y  \n",
              "0  unknown    5   may         1     -1         0  unknown  no  \n",
              "1  unknown    5   may         1     -1         0  unknown  no  \n",
              "2  unknown    5   may         1     -1         0  unknown  no  \n",
              "3  unknown    5   may         1     -1         0  unknown  no  \n",
              "4  unknown    5   may         1     -1         0  unknown  no  "
            ],
            "text/html": [
              "\n",
              "  <div id=\"df-0e011684-3761-455d-84c0-f9bd82271b3b\">\n",
              "    <div class=\"colab-df-container\">\n",
              "      <div>\n",
              "<style scoped>\n",
              "    .dataframe tbody tr th:only-of-type {\n",
              "        vertical-align: middle;\n",
              "    }\n",
              "\n",
              "    .dataframe tbody tr th {\n",
              "        vertical-align: top;\n",
              "    }\n",
              "\n",
              "    .dataframe thead th {\n",
              "        text-align: right;\n",
              "    }\n",
              "</style>\n",
              "<table border=\"1\" class=\"dataframe\">\n",
              "  <thead>\n",
              "    <tr style=\"text-align: right;\">\n",
              "      <th></th>\n",
              "      <th>age</th>\n",
              "      <th>job</th>\n",
              "      <th>marital</th>\n",
              "      <th>education</th>\n",
              "      <th>default</th>\n",
              "      <th>balance</th>\n",
              "      <th>housing</th>\n",
              "      <th>loan</th>\n",
              "      <th>contact</th>\n",
              "      <th>day</th>\n",
              "      <th>month</th>\n",
              "      <th>campaign</th>\n",
              "      <th>pdays</th>\n",
              "      <th>previous</th>\n",
              "      <th>poutcome</th>\n",
              "      <th>y</th>\n",
              "    </tr>\n",
              "  </thead>\n",
              "  <tbody>\n",
              "    <tr>\n",
              "      <th>0</th>\n",
              "      <td>58</td>\n",
              "      <td>management</td>\n",
              "      <td>married</td>\n",
              "      <td>tertiary</td>\n",
              "      <td>no</td>\n",
              "      <td>2143</td>\n",
              "      <td>yes</td>\n",
              "      <td>no</td>\n",
              "      <td>unknown</td>\n",
              "      <td>5</td>\n",
              "      <td>may</td>\n",
              "      <td>1</td>\n",
              "      <td>-1</td>\n",
              "      <td>0</td>\n",
              "      <td>unknown</td>\n",
              "      <td>no</td>\n",
              "    </tr>\n",
              "    <tr>\n",
              "      <th>1</th>\n",
              "      <td>44</td>\n",
              "      <td>technician</td>\n",
              "      <td>single</td>\n",
              "      <td>secondary</td>\n",
              "      <td>no</td>\n",
              "      <td>29</td>\n",
              "      <td>yes</td>\n",
              "      <td>no</td>\n",
              "      <td>unknown</td>\n",
              "      <td>5</td>\n",
              "      <td>may</td>\n",
              "      <td>1</td>\n",
              "      <td>-1</td>\n",
              "      <td>0</td>\n",
              "      <td>unknown</td>\n",
              "      <td>no</td>\n",
              "    </tr>\n",
              "    <tr>\n",
              "      <th>2</th>\n",
              "      <td>33</td>\n",
              "      <td>entrepreneur</td>\n",
              "      <td>married</td>\n",
              "      <td>secondary</td>\n",
              "      <td>no</td>\n",
              "      <td>2</td>\n",
              "      <td>yes</td>\n",
              "      <td>yes</td>\n",
              "      <td>unknown</td>\n",
              "      <td>5</td>\n",
              "      <td>may</td>\n",
              "      <td>1</td>\n",
              "      <td>-1</td>\n",
              "      <td>0</td>\n",
              "      <td>unknown</td>\n",
              "      <td>no</td>\n",
              "    </tr>\n",
              "    <tr>\n",
              "      <th>3</th>\n",
              "      <td>47</td>\n",
              "      <td>blue-collar</td>\n",
              "      <td>married</td>\n",
              "      <td>unknown</td>\n",
              "      <td>no</td>\n",
              "      <td>1506</td>\n",
              "      <td>yes</td>\n",
              "      <td>no</td>\n",
              "      <td>unknown</td>\n",
              "      <td>5</td>\n",
              "      <td>may</td>\n",
              "      <td>1</td>\n",
              "      <td>-1</td>\n",
              "      <td>0</td>\n",
              "      <td>unknown</td>\n",
              "      <td>no</td>\n",
              "    </tr>\n",
              "    <tr>\n",
              "      <th>4</th>\n",
              "      <td>33</td>\n",
              "      <td>unknown</td>\n",
              "      <td>single</td>\n",
              "      <td>unknown</td>\n",
              "      <td>no</td>\n",
              "      <td>1</td>\n",
              "      <td>no</td>\n",
              "      <td>no</td>\n",
              "      <td>unknown</td>\n",
              "      <td>5</td>\n",
              "      <td>may</td>\n",
              "      <td>1</td>\n",
              "      <td>-1</td>\n",
              "      <td>0</td>\n",
              "      <td>unknown</td>\n",
              "      <td>no</td>\n",
              "    </tr>\n",
              "  </tbody>\n",
              "</table>\n",
              "</div>\n",
              "      <button class=\"colab-df-convert\" onclick=\"convertToInteractive('df-0e011684-3761-455d-84c0-f9bd82271b3b')\"\n",
              "              title=\"Convert this dataframe to an interactive table.\"\n",
              "              style=\"display:none;\">\n",
              "        \n",
              "  <svg xmlns=\"http://www.w3.org/2000/svg\" height=\"24px\"viewBox=\"0 0 24 24\"\n",
              "       width=\"24px\">\n",
              "    <path d=\"M0 0h24v24H0V0z\" fill=\"none\"/>\n",
              "    <path d=\"M18.56 5.44l.94 2.06.94-2.06 2.06-.94-2.06-.94-.94-2.06-.94 2.06-2.06.94zm-11 1L8.5 8.5l.94-2.06 2.06-.94-2.06-.94L8.5 2.5l-.94 2.06-2.06.94zm10 10l.94 2.06.94-2.06 2.06-.94-2.06-.94-.94-2.06-.94 2.06-2.06.94z\"/><path d=\"M17.41 7.96l-1.37-1.37c-.4-.4-.92-.59-1.43-.59-.52 0-1.04.2-1.43.59L10.3 9.45l-7.72 7.72c-.78.78-.78 2.05 0 2.83L4 21.41c.39.39.9.59 1.41.59.51 0 1.02-.2 1.41-.59l7.78-7.78 2.81-2.81c.8-.78.8-2.07 0-2.86zM5.41 20L4 18.59l7.72-7.72 1.47 1.35L5.41 20z\"/>\n",
              "  </svg>\n",
              "      </button>\n",
              "      \n",
              "  <style>\n",
              "    .colab-df-container {\n",
              "      display:flex;\n",
              "      flex-wrap:wrap;\n",
              "      gap: 12px;\n",
              "    }\n",
              "\n",
              "    .colab-df-convert {\n",
              "      background-color: #E8F0FE;\n",
              "      border: none;\n",
              "      border-radius: 50%;\n",
              "      cursor: pointer;\n",
              "      display: none;\n",
              "      fill: #1967D2;\n",
              "      height: 32px;\n",
              "      padding: 0 0 0 0;\n",
              "      width: 32px;\n",
              "    }\n",
              "\n",
              "    .colab-df-convert:hover {\n",
              "      background-color: #E2EBFA;\n",
              "      box-shadow: 0px 1px 2px rgba(60, 64, 67, 0.3), 0px 1px 3px 1px rgba(60, 64, 67, 0.15);\n",
              "      fill: #174EA6;\n",
              "    }\n",
              "\n",
              "    [theme=dark] .colab-df-convert {\n",
              "      background-color: #3B4455;\n",
              "      fill: #D2E3FC;\n",
              "    }\n",
              "\n",
              "    [theme=dark] .colab-df-convert:hover {\n",
              "      background-color: #434B5C;\n",
              "      box-shadow: 0px 1px 3px 1px rgba(0, 0, 0, 0.15);\n",
              "      filter: drop-shadow(0px 1px 2px rgba(0, 0, 0, 0.3));\n",
              "      fill: #FFFFFF;\n",
              "    }\n",
              "  </style>\n",
              "\n",
              "      <script>\n",
              "        const buttonEl =\n",
              "          document.querySelector('#df-0e011684-3761-455d-84c0-f9bd82271b3b button.colab-df-convert');\n",
              "        buttonEl.style.display =\n",
              "          google.colab.kernel.accessAllowed ? 'block' : 'none';\n",
              "\n",
              "        async function convertToInteractive(key) {\n",
              "          const element = document.querySelector('#df-0e011684-3761-455d-84c0-f9bd82271b3b');\n",
              "          const dataTable =\n",
              "            await google.colab.kernel.invokeFunction('convertToInteractive',\n",
              "                                                     [key], {});\n",
              "          if (!dataTable) return;\n",
              "\n",
              "          const docLinkHtml = 'Like what you see? Visit the ' +\n",
              "            '<a target=\"_blank\" href=https://colab.research.google.com/notebooks/data_table.ipynb>data table notebook</a>'\n",
              "            + ' to learn more about interactive tables.';\n",
              "          element.innerHTML = '';\n",
              "          dataTable['output_type'] = 'display_data';\n",
              "          await google.colab.output.renderOutput(dataTable, element);\n",
              "          const docLink = document.createElement('div');\n",
              "          docLink.innerHTML = docLinkHtml;\n",
              "          element.appendChild(docLink);\n",
              "        }\n",
              "      </script>\n",
              "    </div>\n",
              "  </div>\n",
              "  "
            ]
          },
          "metadata": {},
          "execution_count": 6
        }
      ],
      "source": [
        "data=data.drop('duration' , axis=1)\n",
        "data.head()"
      ]
    },
    {
      "cell_type": "markdown",
      "metadata": {
        "id": "GIb5fX4TUpc7"
      },
      "source": [
        "## Is data balance?\n"
      ]
    },
    {
      "cell_type": "code",
      "execution_count": null,
      "metadata": {
        "colab": {
          "base_uri": "https://localhost:8080/",
          "height": 392
        },
        "id": "koC8-Ia5UsnC",
        "outputId": "f0251a83-5d86-42da-8831-6810e668fc6f"
      },
      "outputs": [
        {
          "output_type": "stream",
          "name": "stdout",
          "text": [
            "no     0.883015\n",
            "yes    0.116985\n",
            "Name: y, dtype: float64\n"
          ]
        },
        {
          "output_type": "stream",
          "name": "stderr",
          "text": [
            "/usr/local/lib/python3.7/dist-packages/seaborn/_decorators.py:43: FutureWarning: Pass the following variable as a keyword arg: x. From version 0.12, the only valid positional argument will be `data`, and passing other arguments without an explicit keyword will result in an error or misinterpretation.\n",
            "  FutureWarning\n"
          ]
        },
        {
          "output_type": "display_data",
          "data": {
            "text/plain": [
              "<Figure size 432x288 with 1 Axes>"
            ],
            "image/png": "[encoded data removed]"
          },
          "metadata": {
            "needs_background": "light"
          }
        }
      ],
      "source": [
        "sns.countplot(data['y'])\n",
        "print(data['y'].value_counts()/len(data['y']))"
      ]
    },
    {
      "cell_type": "markdown",
      "metadata": {
        "id": "2kmX8XuSvN-Y"
      },
      "source": [
        "# Correlation"
      ]
    },
    {
      "cell_type": "code",
      "execution_count": null,
      "metadata": {
        "colab": {
          "base_uri": "https://localhost:8080/",
          "height": 238
        },
        "id": "m0B9Wv3yvSda",
        "outputId": "2c0dc1c6-3c26-4937-84b3-e6693b23c4e0"
      },
      "outputs": [
        {
          "output_type": "execute_result",
          "data": {
            "text/plain": [
              "               age   balance       day  campaign     pdays  previous\n",
              "age       1.000000  0.097783 -0.009120  0.004760 -0.023758  0.001288\n",
              "balance   0.097783  1.000000  0.004503 -0.014578  0.003435  0.016674\n",
              "day      -0.009120  0.004503  1.000000  0.162490 -0.093044 -0.051710\n",
              "campaign  0.004760 -0.014578  0.162490  1.000000 -0.088628 -0.032855\n",
              "pdays    -0.023758  0.003435 -0.093044 -0.088628  1.000000  0.454820\n",
              "previous  0.001288  0.016674 -0.051710 -0.032855  0.454820  1.000000"
            ],
            "text/html": [
              "\n",
              "  <div id=\"df-879b4fe0-172f-4949-b2f2-eba0727bab37\">\n",
              "    <div class=\"colab-df-container\">\n",
              "      <div>\n",
              "<style scoped>\n",
              "    .dataframe tbody tr th:only-of-type {\n",
              "        vertical-align: middle;\n",
              "    }\n",
              "\n",
              "    .dataframe tbody tr th {\n",
              "        vertical-align: top;\n",
              "    }\n",
              "\n",
              "    .dataframe thead th {\n",
              "        text-align: right;\n",
              "    }\n",
              "</style>\n",
              "<table border=\"1\" class=\"dataframe\">\n",
              "  <thead>\n",
              "    <tr style=\"text-align: right;\">\n",
              "      <th></th>\n",
              "      <th>age</th>\n",
              "      <th>balance</th>\n",
              "      <th>day</th>\n",
              "      <th>campaign</th>\n",
              "      <th>pdays</th>\n",
              "      <th>previous</th>\n",
              "    </tr>\n",
              "  </thead>\n",
              "  <tbody>\n",
              "    <tr>\n",
              "      <th>age</th>\n",
              "      <td>1.000000</td>\n",
              "      <td>0.097783</td>\n",
              "      <td>-0.009120</td>\n",
              "      <td>0.004760</td>\n",
              "      <td>-0.023758</td>\n",
              "      <td>0.001288</td>\n",
              "    </tr>\n",
              "    <tr>\n",
              "      <th>balance</th>\n",
              "      <td>0.097783</td>\n",
              "      <td>1.000000</td>\n",
              "      <td>0.004503</td>\n",
              "      <td>-0.014578</td>\n",
              "      <td>0.003435</td>\n",
              "      <td>0.016674</td>\n",
              "    </tr>\n",
              "    <tr>\n",
              "      <th>day</th>\n",
              "      <td>-0.009120</td>\n",
              "      <td>0.004503</td>\n",
              "      <td>1.000000</td>\n",
              "      <td>0.162490</td>\n",
              "      <td>-0.093044</td>\n",
              "      <td>-0.051710</td>\n",
              "    </tr>\n",
              "    <tr>\n",
              "      <th>campaign</th>\n",
              "      <td>0.004760</td>\n",
              "      <td>-0.014578</td>\n",
              "      <td>0.162490</td>\n",
              "      <td>1.000000</td>\n",
              "      <td>-0.088628</td>\n",
              "      <td>-0.032855</td>\n",
              "    </tr>\n",
              "    <tr>\n",
              "      <th>pdays</th>\n",
              "      <td>-0.023758</td>\n",
              "      <td>0.003435</td>\n",
              "      <td>-0.093044</td>\n",
              "      <td>-0.088628</td>\n",
              "      <td>1.000000</td>\n",
              "      <td>0.454820</td>\n",
              "    </tr>\n",
              "    <tr>\n",
              "      <th>previous</th>\n",
              "      <td>0.001288</td>\n",
              "      <td>0.016674</td>\n",
              "      <td>-0.051710</td>\n",
              "      <td>-0.032855</td>\n",
              "      <td>0.454820</td>\n",
              "      <td>1.000000</td>\n",
              "    </tr>\n",
              "  </tbody>\n",
              "</table>\n",
              "</div>\n",
              "      <button class=\"colab-df-convert\" onclick=\"convertToInteractive('df-879b4fe0-172f-4949-b2f2-eba0727bab37')\"\n",
              "              title=\"Convert this dataframe to an interactive table.\"\n",
              "              style=\"display:none;\">\n",
              "        \n",
              "  <svg xmlns=\"http://www.w3.org/2000/svg\" height=\"24px\"viewBox=\"0 0 24 24\"\n",
              "       width=\"24px\">\n",
              "    <path d=\"M0 0h24v24H0V0z\" fill=\"none\"/>\n",
              "    <path d=\"M18.56 5.44l.94 2.06.94-2.06 2.06-.94-2.06-.94-.94-2.06-.94 2.06-2.06.94zm-11 1L8.5 8.5l.94-2.06 2.06-.94-2.06-.94L8.5 2.5l-.94 2.06-2.06.94zm10 10l.94 2.06.94-2.06 2.06-.94-2.06-.94-.94-2.06-.94 2.06-2.06.94z\"/><path d=\"M17.41 7.96l-1.37-1.37c-.4-.4-.92-.59-1.43-.59-.52 0-1.04.2-1.43.59L10.3 9.45l-7.72 7.72c-.78.78-.78 2.05 0 2.83L4 21.41c.39.39.9.59 1.41.59.51 0 1.02-.2 1.41-.59l7.78-7.78 2.81-2.81c.8-.78.8-2.07 0-2.86zM5.41 20L4 18.59l7.72-7.72 1.47 1.35L5.41 20z\"/>\n",
              "  </svg>\n",
              "      </button>\n",
              "      \n",
              "  <style>\n",
              "    .colab-df-container {\n",
              "      display:flex;\n",
              "      flex-wrap:wrap;\n",
              "      gap: 12px;\n",
              "    }\n",
              "\n",
              "    .colab-df-convert {\n",
              "      background-color: #E8F0FE;\n",
              "      border: none;\n",
              "      border-radius: 50%;\n",
              "      cursor: pointer;\n",
              "      display: none;\n",
              "      fill: #1967D2;\n",
              "      height: 32px;\n",
              "      padding: 0 0 0 0;\n",
              "      width: 32px;\n",
              "    }\n",
              "\n",
              "    .colab-df-convert:hover {\n",
              "      background-color: #E2EBFA;\n",
              "      box-shadow: 0px 1px 2px rgba(60, 64, 67, 0.3), 0px 1px 3px 1px rgba(60, 64, 67, 0.15);\n",
              "      fill: #174EA6;\n",
              "    }\n",
              "\n",
              "    [theme=dark] .colab-df-convert {\n",
              "      background-color: #3B4455;\n",
              "      fill: #D2E3FC;\n",
              "    }\n",
              "\n",
              "    [theme=dark] .colab-df-convert:hover {\n",
              "      background-color: #434B5C;\n",
              "      box-shadow: 0px 1px 3px 1px rgba(0, 0, 0, 0.15);\n",
              "      filter: drop-shadow(0px 1px 2px rgba(0, 0, 0, 0.3));\n",
              "      fill: #FFFFFF;\n",
              "    }\n",
              "  </style>\n",
              "\n",
              "      <script>\n",
              "        const buttonEl =\n",
              "          document.querySelector('#df-879b4fe0-172f-4949-b2f2-eba0727bab37 button.colab-df-convert');\n",
              "        buttonEl.style.display =\n",
              "          google.colab.kernel.accessAllowed ? 'block' : 'none';\n",
              "\n",
              "        async function convertToInteractive(key) {\n",
              "          const element = document.querySelector('#df-879b4fe0-172f-4949-b2f2-eba0727bab37');\n",
              "          const dataTable =\n",
              "            await google.colab.kernel.invokeFunction('convertToInteractive',\n",
              "                                                     [key], {});\n",
              "          if (!dataTable) return;\n",
              "\n",
              "          const docLinkHtml = 'Like what you see? Visit the ' +\n",
              "            '<a target=\"_blank\" href=https://colab.research.google.com/notebooks/data_table.ipynb>data table notebook</a>'\n",
              "            + ' to learn more about interactive tables.';\n",
              "          element.innerHTML = '';\n",
              "          dataTable['output_type'] = 'display_data';\n",
              "          await google.colab.output.renderOutput(dataTable, element);\n",
              "          const docLink = document.createElement('div');\n",
              "          docLink.innerHTML = docLinkHtml;\n",
              "          element.appendChild(docLink);\n",
              "        }\n",
              "      </script>\n",
              "    </div>\n",
              "  </div>\n",
              "  "
            ]
          },
          "metadata": {},
          "execution_count": 972
        }
      ],
      "source": [
        "corr=data.corr()\n",
        "corr"
      ]
    },
    {
      "cell_type": "code",
      "execution_count": null,
      "metadata": {
        "colab": {
          "base_uri": "https://localhost:8080/",
          "height": 615
        },
        "id": "jjJzemYau8nj",
        "outputId": "23327c92-d31c-4d4e-b83a-b9e0ae54b8b7"
      },
      "outputs": [
        {
          "output_type": "execute_result",
          "data": {
            "text/plain": [
              "<matplotlib.axes._subplots.AxesSubplot at 0x7f16771c3ed0>"
            ]
          },
          "metadata": {},
          "execution_count": 973
        },
        {
          "output_type": "display_data",
          "data": {
            "text/plain": [
              "<Figure size 1080x720 with 2 Axes>"
            ],
            "image/png": "[encoded data removed]"
          },
          "metadata": {
            "needs_background": "light"
          }
        }
      ],
      "source": [
        "# Visualizing the Correlation Matrix\n",
        "fig,ax=plt.subplots()\n",
        "fig.set_size_inches(15,10)\n",
        "sns.heatmap(corr,annot=True,cmap='YlGnBu')"
      ]
    },
    {
      "cell_type": "markdown",
      "metadata": {
        "id": "8tZfGKF-GJSy"
      },
      "source": [
        "## Checking for Skewness"
      ]
    },
    {
      "cell_type": "code",
      "execution_count": null,
      "metadata": {
        "colab": {
          "base_uri": "https://localhost:8080/"
        },
        "id": "--jUQDYXGH2r",
        "outputId": "b51ad0f1-1442-458b-f4ae-03eba6042975"
      },
      "outputs": [
        {
          "output_type": "stream",
          "name": "stderr",
          "text": [
            "/usr/local/lib/python3.7/dist-packages/ipykernel_launcher.py:1: FutureWarning: Dropping of nuisance columns in DataFrame reductions (with 'numeric_only=None') is deprecated; in a future version this will raise TypeError.  Select only valid columns before calling the reduction.\n",
            "  \"\"\"Entry point for launching an IPython kernel.\n"
          ]
        },
        {
          "output_type": "execute_result",
          "data": {
            "text/plain": [
              "age          0.684818\n",
              "balance      8.360308\n",
              "day          0.093079\n",
              "campaign     4.898650\n",
              "pdays        2.615715\n",
              "previous    41.846454\n",
              "dtype: float64"
            ]
          },
          "metadata": {},
          "execution_count": 974
        }
      ],
      "source": [
        "data.skew()"
      ]
    },
    {
      "cell_type": "markdown",
      "metadata": {
        "id": "4fJ9YHUjZup6"
      },
      "source": [
        "## log transformation for Age"
      ]
    },
    {
      "cell_type": "code",
      "execution_count": null,
      "metadata": {
        "id": "xaDJLjKtaDmH"
      },
      "outputs": [],
      "source": [
        "#np.random.seed(0)\n",
        "#age_trans = np.log(data['age'])\n",
        "\n",
        "\n",
        "#fig, axs = plt.subplots(nrows=1, ncols=2)\n",
        "#axs[0].hist(data['age'], edgecolor='black')\n",
        "#axs[1].hist(age_trans, edgecolor='black')\n",
        "#axs[0].set_title('Original Age')\n",
        "#axs[1].set_title('Log Transformed Age')"
      ]
    },
    {
      "cell_type": "markdown",
      "metadata": {
        "id": "mF6eP1WV-9Qh"
      },
      "source": [
        "##Cube root transformation for balance"
      ]
    },
    {
      "cell_type": "code",
      "execution_count": null,
      "metadata": {
        "id": "OcKxCTaUPd0b"
      },
      "outputs": [],
      "source": [
        "#np.random.seed(0)\n",
        "#balance_trans = np.cbrt(data['balance'])\n",
        "\n",
        "\n",
        "#fig, axs = plt.subplots(nrows=1, ncols=2)\n",
        "#axs[0].hist(data['balance'], edgecolor='black')\n",
        "#axs[1].hist(balance_trans, edgecolor='black')\n",
        "#axs[0].set_title('Original Balance')\n",
        "#axs[1].set_title('Cube Root Transformed Balance')"
      ]
    },
    {
      "cell_type": "markdown",
      "metadata": {
        "id": "vZtuU4fMVtv_"
      },
      "source": [
        "## Log transformation for campaign"
      ]
    },
    {
      "cell_type": "code",
      "execution_count": null,
      "metadata": {
        "id": "GZzfT_jyWDCs"
      },
      "outputs": [],
      "source": [
        "#np.random.seed(0)\n",
        "#campaign_trans = np.log(data['campaign'])\n",
        "\n",
        "\n",
        "#fig, axs = plt.subplots(nrows=1, ncols=2)\n",
        "#axs[0].hist(data['campaign'], edgecolor='black')\n",
        "#axs[1].hist(campaign_trans, edgecolor='black')\n",
        "#axs[0].set_title('Original Campaign')\n",
        "#axs[1].set_title('Log Transformed Campaign')"
      ]
    },
    {
      "cell_type": "markdown",
      "metadata": {
        "id": "dZLMQEXcZ1MO"
      },
      "source": [
        "## Cube root transformation for previous"
      ]
    },
    {
      "cell_type": "code",
      "execution_count": null,
      "metadata": {
        "id": "9zbAiPWoZ5em"
      },
      "outputs": [],
      "source": [
        "#np.random.seed(0)\n",
        "#previous_trans = np.cbrt(data['previous'])\n",
        "\n",
        "\n",
        "#fig,axs = plt.subplots(nrows=1, ncols=2)\n",
        "#axs[0].hist(data['previous'], edgecolor='black')\n",
        "#axs[1].hist(previous_trans , edgecolor='black')\n",
        "#axs[0].set_title('Original Previous')\n",
        "#axs[1].set_title('Cube Root Transformed Previous')\n"
      ]
    },
    {
      "cell_type": "code",
      "execution_count": null,
      "metadata": {
        "id": "4n5LZygWJXwc"
      },
      "outputs": [],
      "source": [
        "# convet skewed columns to the transformed values\n",
        "#data['age']=age_trans\n",
        "#data['balance']=balance_trans\n",
        "#data['campaign']=campaign_trans\n",
        "#data['previous']=previous_trans"
      ]
    },
    {
      "cell_type": "markdown",
      "metadata": {
        "id": "Wny3hWsyBIc4"
      },
      "source": [
        "## Convert  'day' column from numerical to *categorical*"
      ]
    },
    {
      "cell_type": "code",
      "execution_count": null,
      "metadata": {
        "colab": {
          "base_uri": "https://localhost:8080/"
        },
        "id": "hCkKEawlAh3E",
        "outputId": "8335fb1b-f69d-4f70-dc1f-fc1e279dbf0a"
      },
      "outputs": [
        {
          "output_type": "stream",
          "name": "stdout",
          "text": [
            "category\n"
          ]
        }
      ],
      "source": [
        "data['day']=data['day'].astype('category',copy=False)\n",
        "print(data['day'].dtypes)"
      ]
    },
    {
      "cell_type": "markdown",
      "source": [
        "# Label Encoding of target variable"
      ],
      "metadata": {
        "id": "So2ISN6O3kqB"
      }
    },
    {
      "cell_type": "code",
      "source": [
        "le = preprocessing.LabelEncoder()\n",
        "labels = data['y']\n",
        "le.fit(labels)\n",
        "data['y']=le.transform(labels)"
      ],
      "metadata": {
        "id": "h1C7PMhI3J1H"
      },
      "execution_count": null,
      "outputs": []
    },
    {
      "cell_type": "code",
      "source": [
        "data['y']"
      ],
      "metadata": {
        "colab": {
          "base_uri": "https://localhost:8080/"
        },
        "id": "n33bzUVN36wE",
        "outputId": "445d072d-495e-4fa8-e690-fceda27f6363"
      },
      "execution_count": null,
      "outputs": [
        {
          "output_type": "execute_result",
          "data": {
            "text/plain": [
              "0        0\n",
              "1        0\n",
              "2        0\n",
              "3        0\n",
              "4        0\n",
              "        ..\n",
              "45206    1\n",
              "45207    1\n",
              "45208    1\n",
              "45209    0\n",
              "45210    0\n",
              "Name: y, Length: 45211, dtype: int64"
            ]
          },
          "metadata": {},
          "execution_count": 8
        }
      ]
    },
    {
      "cell_type": "markdown",
      "source": [
        "## column 'pday'\n",
        "81% of data in this column is -1 which means client was not previously contacacted. so we can create new column based on this value."
      ],
      "metadata": {
        "id": "ny2XMKeK5hsc"
      }
    },
    {
      "cell_type": "code",
      "source": [
        "data['pdays'].value_counts()/len(data['pdays'])\n"
      ],
      "metadata": {
        "colab": {
          "base_uri": "https://localhost:8080/"
        },
        "id": "60iN9cVt4oiE",
        "outputId": "a177fd22-3efa-48ee-b50c-1ab56f7fbfb4"
      },
      "execution_count": null,
      "outputs": [
        {
          "output_type": "execute_result",
          "data": {
            "text/plain": [
              "-1      0.817367\n",
              " 182    0.003694\n",
              " 92     0.003251\n",
              " 91     0.002787\n",
              " 183    0.002787\n",
              "          ...   \n",
              " 449    0.000022\n",
              " 452    0.000022\n",
              " 648    0.000022\n",
              " 595    0.000022\n",
              " 530    0.000022\n",
              "Name: pdays, Length: 559, dtype: float64"
            ]
          },
          "metadata": {},
          "execution_count": 10
        }
      ]
    },
    {
      "cell_type": "code",
      "source": [
        "# assign value 1 where the pdays is -1 and 0 to other values.\n",
        "no_contact=[]\n",
        "for i in data['pdays']:\n",
        "  if i==-1:\n",
        "    no_contact.append(1)\n",
        "  else: no_contact.append(0)"
      ],
      "metadata": {
        "id": "Ag1ucse77U3E"
      },
      "execution_count": null,
      "outputs": []
    },
    {
      "cell_type": "code",
      "source": [
        "# add new columns to dataframe\n",
        "data['no_contact']=no_contact\n",
        "data['no_contact'].value_counts()"
      ],
      "metadata": {
        "id": "dXzdcf8R9BBx",
        "colab": {
          "base_uri": "https://localhost:8080/"
        },
        "outputId": "0e6cacd8-9683-44ab-d08a-38b63baf4277"
      },
      "execution_count": null,
      "outputs": [
        {
          "output_type": "execute_result",
          "data": {
            "text/plain": [
              "1    36954\n",
              "0     8257\n",
              "Name: no_contact, dtype: int64"
            ]
          },
          "metadata": {},
          "execution_count": 979
        }
      ]
    },
    {
      "cell_type": "markdown",
      "source": [
        "## column 'poutcome'\n",
        "Since about 81% of values in this column is 'unknown' so we drop this column."
      ],
      "metadata": {
        "id": "b9xD88vhBGyW"
      }
    },
    {
      "cell_type": "code",
      "source": [
        "data['poutcome'].value_counts()/len(data['poutcome'])"
      ],
      "metadata": {
        "colab": {
          "base_uri": "https://localhost:8080/"
        },
        "id": "J2yUCtW6BF3K",
        "outputId": "6a2deea4-e516-4813-ae0a-cf419a2f439a"
      },
      "execution_count": null,
      "outputs": [
        {
          "output_type": "execute_result",
          "data": {
            "text/plain": [
              "unknown    0.817478\n",
              "failure    0.108403\n",
              "other      0.040698\n",
              "success    0.033421\n",
              "Name: poutcome, dtype: float64"
            ]
          },
          "metadata": {},
          "execution_count": 11
        }
      ]
    },
    {
      "cell_type": "code",
      "source": [
        "sns.countplot(data['poutcome'])"
      ],
      "metadata": {
        "colab": {
          "base_uri": "https://localhost:8080/",
          "height": 354
        },
        "id": "dMpDBwjSBups",
        "outputId": "09000f89-f119-4ec4-d3fd-672dd1243cc6"
      },
      "execution_count": null,
      "outputs": [
        {
          "output_type": "stream",
          "name": "stderr",
          "text": [
            "/usr/local/lib/python3.7/dist-packages/seaborn/_decorators.py:43: FutureWarning: Pass the following variable as a keyword arg: x. From version 0.12, the only valid positional argument will be `data`, and passing other arguments without an explicit keyword will result in an error or misinterpretation.\n",
            "  FutureWarning\n"
          ]
        },
        {
          "output_type": "execute_result",
          "data": {
            "text/plain": [
              "<matplotlib.axes._subplots.AxesSubplot at 0x7f02e880e750>"
            ]
          },
          "metadata": {},
          "execution_count": 12
        },
        {
          "output_type": "display_data",
          "data": {
            "text/plain": [
              "<Figure size 432x288 with 1 Axes>"
            ],
            "image/png": "[encoded data removed]"
          },
          "metadata": {
            "needs_background": "light"
          }
        }
      ]
    },
    {
      "cell_type": "code",
      "source": [
        "data=data.drop('poutcome',axis=1)"
      ],
      "metadata": {
        "id": "P0CIGVW0rnt8"
      },
      "execution_count": null,
      "outputs": []
    },
    {
      "cell_type": "code",
      "source": [
        "categorical_cols = ['job', 'marital', 'education','default', 'housing', 'loan', 'contact', 'month']\n",
        "numerical_cols=['age','balance', 'day', 'campaign', 'pdays', 'previous', 'no_contact']"
      ],
      "metadata": {
        "id": "je0ccd-Xraqz"
      },
      "execution_count": null,
      "outputs": []
    },
    {
      "cell_type": "code",
      "source": [
        "dictionary={'jan':1,'feb':2,'mar':3,'apr':4,'may':5,'jun':6,'jul':7,'aug':8,'sep':9,'oct':10,'nov':11,'dec':12\n",
        "}\n",
        "\n",
        "data['month']=data['month'].map(dictionary)"
      ],
      "metadata": {
        "id": "rrcQbFlbrG2Y"
      },
      "execution_count": null,
      "outputs": []
    },
    {
      "cell_type": "code",
      "source": [
        "data.head()"
      ],
      "metadata": {
        "id": "QMR5LGLlLNz7",
        "outputId": "96af2779-d06d-4c78-aed1-8ebd3459acfd",
        "colab": {
          "base_uri": "https://localhost:8080/",
          "height": 206
        }
      },
      "execution_count": null,
      "outputs": [
        {
          "output_type": "execute_result",
          "data": {
            "text/plain": [
              "   age           job  marital  education default  balance housing loan  \\\n",
              "0   58    management  married   tertiary      no     2143     yes   no   \n",
              "1   44    technician   single  secondary      no       29     yes   no   \n",
              "2   33  entrepreneur  married  secondary      no        2     yes  yes   \n",
              "3   47   blue-collar  married    unknown      no     1506     yes   no   \n",
              "4   33       unknown   single    unknown      no        1      no   no   \n",
              "\n",
              "   contact  day  month  campaign  pdays  previous  y  \n",
              "0  unknown    5      5         1     -1         0  0  \n",
              "1  unknown    5      5         1     -1         0  0  \n",
              "2  unknown    5      5         1     -1         0  0  \n",
              "3  unknown    5      5         1     -1         0  0  \n",
              "4  unknown    5      5         1     -1         0  0  "
            ],
            "text/html": [
              "\n",
              "  <div id=\"df-19aaf04d-d05e-45d1-833f-4542efa6da6c\">\n",
              "    <div class=\"colab-df-container\">\n",
              "      <div>\n",
              "<style scoped>\n",
              "    .dataframe tbody tr th:only-of-type {\n",
              "        vertical-align: middle;\n",
              "    }\n",
              "\n",
              "    .dataframe tbody tr th {\n",
              "        vertical-align: top;\n",
              "    }\n",
              "\n",
              "    .dataframe thead th {\n",
              "        text-align: right;\n",
              "    }\n",
              "</style>\n",
              "<table border=\"1\" class=\"dataframe\">\n",
              "  <thead>\n",
              "    <tr style=\"text-align: right;\">\n",
              "      <th></th>\n",
              "      <th>age</th>\n",
              "      <th>job</th>\n",
              "      <th>marital</th>\n",
              "      <th>education</th>\n",
              "      <th>default</th>\n",
              "      <th>balance</th>\n",
              "      <th>housing</th>\n",
              "      <th>loan</th>\n",
              "      <th>contact</th>\n",
              "      <th>day</th>\n",
              "      <th>month</th>\n",
              "      <th>campaign</th>\n",
              "      <th>pdays</th>\n",
              "      <th>previous</th>\n",
              "      <th>y</th>\n",
              "    </tr>\n",
              "  </thead>\n",
              "  <tbody>\n",
              "    <tr>\n",
              "      <th>0</th>\n",
              "      <td>58</td>\n",
              "      <td>management</td>\n",
              "      <td>married</td>\n",
              "      <td>tertiary</td>\n",
              "      <td>no</td>\n",
              "      <td>2143</td>\n",
              "      <td>yes</td>\n",
              "      <td>no</td>\n",
              "      <td>unknown</td>\n",
              "      <td>5</td>\n",
              "      <td>5</td>\n",
              "      <td>1</td>\n",
              "      <td>-1</td>\n",
              "      <td>0</td>\n",
              "      <td>0</td>\n",
              "    </tr>\n",
              "    <tr>\n",
              "      <th>1</th>\n",
              "      <td>44</td>\n",
              "      <td>technician</td>\n",
              "      <td>single</td>\n",
              "      <td>secondary</td>\n",
              "      <td>no</td>\n",
              "      <td>29</td>\n",
              "      <td>yes</td>\n",
              "      <td>no</td>\n",
              "      <td>unknown</td>\n",
              "      <td>5</td>\n",
              "      <td>5</td>\n",
              "      <td>1</td>\n",
              "      <td>-1</td>\n",
              "      <td>0</td>\n",
              "      <td>0</td>\n",
              "    </tr>\n",
              "    <tr>\n",
              "      <th>2</th>\n",
              "      <td>33</td>\n",
              "      <td>entrepreneur</td>\n",
              "      <td>married</td>\n",
              "      <td>secondary</td>\n",
              "      <td>no</td>\n",
              "      <td>2</td>\n",
              "      <td>yes</td>\n",
              "      <td>yes</td>\n",
              "      <td>unknown</td>\n",
              "      <td>5</td>\n",
              "      <td>5</td>\n",
              "      <td>1</td>\n",
              "      <td>-1</td>\n",
              "      <td>0</td>\n",
              "      <td>0</td>\n",
              "    </tr>\n",
              "    <tr>\n",
              "      <th>3</th>\n",
              "      <td>47</td>\n",
              "      <td>blue-collar</td>\n",
              "      <td>married</td>\n",
              "      <td>unknown</td>\n",
              "      <td>no</td>\n",
              "      <td>1506</td>\n",
              "      <td>yes</td>\n",
              "      <td>no</td>\n",
              "      <td>unknown</td>\n",
              "      <td>5</td>\n",
              "      <td>5</td>\n",
              "      <td>1</td>\n",
              "      <td>-1</td>\n",
              "      <td>0</td>\n",
              "      <td>0</td>\n",
              "    </tr>\n",
              "    <tr>\n",
              "      <th>4</th>\n",
              "      <td>33</td>\n",
              "      <td>unknown</td>\n",
              "      <td>single</td>\n",
              "      <td>unknown</td>\n",
              "      <td>no</td>\n",
              "      <td>1</td>\n",
              "      <td>no</td>\n",
              "      <td>no</td>\n",
              "      <td>unknown</td>\n",
              "      <td>5</td>\n",
              "      <td>5</td>\n",
              "      <td>1</td>\n",
              "      <td>-1</td>\n",
              "      <td>0</td>\n",
              "      <td>0</td>\n",
              "    </tr>\n",
              "  </tbody>\n",
              "</table>\n",
              "</div>\n",
              "      <button class=\"colab-df-convert\" onclick=\"convertToInteractive('df-19aaf04d-d05e-45d1-833f-4542efa6da6c')\"\n",
              "              title=\"Convert this dataframe to an interactive table.\"\n",
              "              style=\"display:none;\">\n",
              "        \n",
              "  <svg xmlns=\"http://www.w3.org/2000/svg\" height=\"24px\"viewBox=\"0 0 24 24\"\n",
              "       width=\"24px\">\n",
              "    <path d=\"M0 0h24v24H0V0z\" fill=\"none\"/>\n",
              "    <path d=\"M18.56 5.44l.94 2.06.94-2.06 2.06-.94-2.06-.94-.94-2.06-.94 2.06-2.06.94zm-11 1L8.5 8.5l.94-2.06 2.06-.94-2.06-.94L8.5 2.5l-.94 2.06-2.06.94zm10 10l.94 2.06.94-2.06 2.06-.94-2.06-.94-.94-2.06-.94 2.06-2.06.94z\"/><path d=\"M17.41 7.96l-1.37-1.37c-.4-.4-.92-.59-1.43-.59-.52 0-1.04.2-1.43.59L10.3 9.45l-7.72 7.72c-.78.78-.78 2.05 0 2.83L4 21.41c.39.39.9.59 1.41.59.51 0 1.02-.2 1.41-.59l7.78-7.78 2.81-2.81c.8-.78.8-2.07 0-2.86zM5.41 20L4 18.59l7.72-7.72 1.47 1.35L5.41 20z\"/>\n",
              "  </svg>\n",
              "      </button>\n",
              "      \n",
              "  <style>\n",
              "    .colab-df-container {\n",
              "      display:flex;\n",
              "      flex-wrap:wrap;\n",
              "      gap: 12px;\n",
              "    }\n",
              "\n",
              "    .colab-df-convert {\n",
              "      background-color: #E8F0FE;\n",
              "      border: none;\n",
              "      border-radius: 50%;\n",
              "      cursor: pointer;\n",
              "      display: none;\n",
              "      fill: #1967D2;\n",
              "      height: 32px;\n",
              "      padding: 0 0 0 0;\n",
              "      width: 32px;\n",
              "    }\n",
              "\n",
              "    .colab-df-convert:hover {\n",
              "      background-color: #E2EBFA;\n",
              "      box-shadow: 0px 1px 2px rgba(60, 64, 67, 0.3), 0px 1px 3px 1px rgba(60, 64, 67, 0.15);\n",
              "      fill: #174EA6;\n",
              "    }\n",
              "\n",
              "    [theme=dark] .colab-df-convert {\n",
              "      background-color: #3B4455;\n",
              "      fill: #D2E3FC;\n",
              "    }\n",
              "\n",
              "    [theme=dark] .colab-df-convert:hover {\n",
              "      background-color: #434B5C;\n",
              "      box-shadow: 0px 1px 3px 1px rgba(0, 0, 0, 0.15);\n",
              "      filter: drop-shadow(0px 1px 2px rgba(0, 0, 0, 0.3));\n",
              "      fill: #FFFFFF;\n",
              "    }\n",
              "  </style>\n",
              "\n",
              "      <script>\n",
              "        const buttonEl =\n",
              "          document.querySelector('#df-19aaf04d-d05e-45d1-833f-4542efa6da6c button.colab-df-convert');\n",
              "        buttonEl.style.display =\n",
              "          google.colab.kernel.accessAllowed ? 'block' : 'none';\n",
              "\n",
              "        async function convertToInteractive(key) {\n",
              "          const element = document.querySelector('#df-19aaf04d-d05e-45d1-833f-4542efa6da6c');\n",
              "          const dataTable =\n",
              "            await google.colab.kernel.invokeFunction('convertToInteractive',\n",
              "                                                     [key], {});\n",
              "          if (!dataTable) return;\n",
              "\n",
              "          const docLinkHtml = 'Like what you see? Visit the ' +\n",
              "            '<a target=\"_blank\" href=https://colab.research.google.com/notebooks/data_table.ipynb>data table notebook</a>'\n",
              "            + ' to learn more about interactive tables.';\n",
              "          element.innerHTML = '';\n",
              "          dataTable['output_type'] = 'display_data';\n",
              "          await google.colab.output.renderOutput(dataTable, element);\n",
              "          const docLink = document.createElement('div');\n",
              "          docLink.innerHTML = docLinkHtml;\n",
              "          element.appendChild(docLink);\n",
              "        }\n",
              "      </script>\n",
              "    </div>\n",
              "  </div>\n",
              "  "
            ]
          },
          "metadata": {},
          "execution_count": 17
        }
      ]
    },
    {
      "cell_type": "markdown",
      "source": [
        "#Outliers"
      ],
      "metadata": {
        "id": "C-if2QZpaUOZ"
      }
    },
    {
      "cell_type": "code",
      "source": [
        "#Boxplot WITH outliers\n",
        "numeric_columns = ['age','balance']\n",
        "for col_name in numeric_columns:\n",
        "  print('feature: ', col_name)\n",
        "  figure1 = plt.figure(figsize = (8,4))\n",
        "  #plt.title (col_name,'With Outliers')s\n",
        "  sns.boxplot(x = data[col_name])\n",
        "\n",
        "  #IQR\n",
        "  Q1 = data[col_name].quantile(0.25)\n",
        "  Q3 = data[col_name].quantile(0.75)\n",
        "  IQR = Q3-Q1\n",
        "\n",
        "  mean1 = round(data[col_name].mean(),2)\n",
        "  std1 = round(data[col_name].std(),2)\n",
        "  median1 = round(data[col_name].median(),2)\n",
        "  data = data[(data[col_name] > (Q1 - 1.5 * IQR)) & (data[col_name] < (Q3 + 1.5 * IQR))]\n"
      ],
      "metadata": {
        "colab": {
          "base_uri": "https://localhost:8080/",
          "height": 578
        },
        "id": "IUKRhhslaTax",
        "outputId": "b828c7be-b381-4648-c44d-42d124651789"
      },
      "execution_count": null,
      "outputs": [
        {
          "output_type": "stream",
          "name": "stdout",
          "text": [
            "feature:  age\n",
            "feature:  balance\n"
          ]
        },
        {
          "output_type": "display_data",
          "data": {
            "text/plain": [
              "<Figure size 576x288 with 1 Axes>"
            ],
            "image/png": "[encoded data removed]"
          },
          "metadata": {
            "needs_background": "light"
          }
        },
        {
          "output_type": "display_data",
          "data": {
            "text/plain": [
              "<Figure size 576x288 with 1 Axes>"
            ],
            "image/png": "[encoded data removed]"
          },
          "metadata": {
            "needs_background": "light"
          }
        }
      ]
    },
    {
      "cell_type": "code",
      "source": [
        "##Boxplot WITHOUT outliers\n",
        "numeric_columns = ['age','balance']\n",
        "for col_name in numeric_columns:\n",
        "  plt.figure(figsize = (8,4))\n",
        "  sns.boxplot(x = data[col_name])"
      ],
      "metadata": {
        "colab": {
          "base_uri": "https://localhost:8080/",
          "height": 541
        },
        "id": "3M-V8tZ5ajTd",
        "outputId": "81566074-eb9d-4b63-bebd-c555f1355463"
      },
      "execution_count": null,
      "outputs": [
        {
          "output_type": "display_data",
          "data": {
            "text/plain": [
              "<Figure size 576x288 with 1 Axes>"
            ],
            "image/png": "[encoded data removed]"
          },
          "metadata": {
            "needs_background": "light"
          }
        },
        {
          "output_type": "display_data",
          "data": {
            "text/plain": [
              "<Figure size 576x288 with 1 Axes>"
            ],
            "image/png": "[encoded data removed]"
          },
          "metadata": {
            "needs_background": "light"
          }
        }
      ]
    },
    {
      "cell_type": "markdown",
      "metadata": {
        "id": "t5KVB3Z8CfIY"
      },
      "source": [
        "# Split the data to train and test set"
      ]
    },
    {
      "cell_type": "code",
      "execution_count": null,
      "metadata": {
        "id": "ca-4wH1eCkHx"
      },
      "outputs": [],
      "source": [
        "X=data.drop('y' ,axis =1)\n",
        "y= data['y']\n",
        "\n",
        "X_train, X_test, y_train, y_test = train_test_split(X, y, test_size=0.20,random_state=42)"
      ]
    },
    {
      "cell_type": "code",
      "source": [
        "X_train.head()"
      ],
      "metadata": {
        "colab": {
          "base_uri": "https://localhost:8080/",
          "height": 250
        },
        "id": "Q81t5DplGMML",
        "outputId": "98faf18e-c757-47dc-a74c-048eebc89ace"
      },
      "execution_count": null,
      "outputs": [
        {
          "output_type": "execute_result",
          "data": {
            "text/plain": [
              "       age           job   marital  education default  balance housing loan  \\\n",
              "38903   44  entrepreneur   married    primary      no     1434     yes   no   \n",
              "18787   26        admin.    single  secondary      no      -14      no   no   \n",
              "38676   37   blue-collar  divorced  secondary      no      625     yes   no   \n",
              "13744   49   blue-collar   married  secondary      no      360      no   no   \n",
              "32859   25    technician    single  secondary      no     1105     yes   no   \n",
              "\n",
              "        contact  day  month  campaign  pdays  previous  no_contact  \n",
              "38903  cellular   18      5         3     -1         0           1  \n",
              "18787  cellular   31      7        31     -1         0           1  \n",
              "38676  cellular   15      5         4    359         2           0  \n",
              "13744  cellular   10      7         1     -1         0           1  \n",
              "32859  cellular   17      4         1     -1         0           1  "
            ],
            "text/html": [
              "\n",
              "  <div id=\"df-06c87a4e-974e-4d16-82f8-b9f3ac16a7d9\">\n",
              "    <div class=\"colab-df-container\">\n",
              "      <div>\n",
              "<style scoped>\n",
              "    .dataframe tbody tr th:only-of-type {\n",
              "        vertical-align: middle;\n",
              "    }\n",
              "\n",
              "    .dataframe tbody tr th {\n",
              "        vertical-align: top;\n",
              "    }\n",
              "\n",
              "    .dataframe thead th {\n",
              "        text-align: right;\n",
              "    }\n",
              "</style>\n",
              "<table border=\"1\" class=\"dataframe\">\n",
              "  <thead>\n",
              "    <tr style=\"text-align: right;\">\n",
              "      <th></th>\n",
              "      <th>age</th>\n",
              "      <th>job</th>\n",
              "      <th>marital</th>\n",
              "      <th>education</th>\n",
              "      <th>default</th>\n",
              "      <th>balance</th>\n",
              "      <th>housing</th>\n",
              "      <th>loan</th>\n",
              "      <th>contact</th>\n",
              "      <th>day</th>\n",
              "      <th>month</th>\n",
              "      <th>campaign</th>\n",
              "      <th>pdays</th>\n",
              "      <th>previous</th>\n",
              "      <th>no_contact</th>\n",
              "    </tr>\n",
              "  </thead>\n",
              "  <tbody>\n",
              "    <tr>\n",
              "      <th>38903</th>\n",
              "      <td>44</td>\n",
              "      <td>entrepreneur</td>\n",
              "      <td>married</td>\n",
              "      <td>primary</td>\n",
              "      <td>no</td>\n",
              "      <td>1434</td>\n",
              "      <td>yes</td>\n",
              "      <td>no</td>\n",
              "      <td>cellular</td>\n",
              "      <td>18</td>\n",
              "      <td>5</td>\n",
              "      <td>3</td>\n",
              "      <td>-1</td>\n",
              "      <td>0</td>\n",
              "      <td>1</td>\n",
              "    </tr>\n",
              "    <tr>\n",
              "      <th>18787</th>\n",
              "      <td>26</td>\n",
              "      <td>admin.</td>\n",
              "      <td>single</td>\n",
              "      <td>secondary</td>\n",
              "      <td>no</td>\n",
              "      <td>-14</td>\n",
              "      <td>no</td>\n",
              "      <td>no</td>\n",
              "      <td>cellular</td>\n",
              "      <td>31</td>\n",
              "      <td>7</td>\n",
              "      <td>31</td>\n",
              "      <td>-1</td>\n",
              "      <td>0</td>\n",
              "      <td>1</td>\n",
              "    </tr>\n",
              "    <tr>\n",
              "      <th>38676</th>\n",
              "      <td>37</td>\n",
              "      <td>blue-collar</td>\n",
              "      <td>divorced</td>\n",
              "      <td>secondary</td>\n",
              "      <td>no</td>\n",
              "      <td>625</td>\n",
              "      <td>yes</td>\n",
              "      <td>no</td>\n",
              "      <td>cellular</td>\n",
              "      <td>15</td>\n",
              "      <td>5</td>\n",
              "      <td>4</td>\n",
              "      <td>359</td>\n",
              "      <td>2</td>\n",
              "      <td>0</td>\n",
              "    </tr>\n",
              "    <tr>\n",
              "      <th>13744</th>\n",
              "      <td>49</td>\n",
              "      <td>blue-collar</td>\n",
              "      <td>married</td>\n",
              "      <td>secondary</td>\n",
              "      <td>no</td>\n",
              "      <td>360</td>\n",
              "      <td>no</td>\n",
              "      <td>no</td>\n",
              "      <td>cellular</td>\n",
              "      <td>10</td>\n",
              "      <td>7</td>\n",
              "      <td>1</td>\n",
              "      <td>-1</td>\n",
              "      <td>0</td>\n",
              "      <td>1</td>\n",
              "    </tr>\n",
              "    <tr>\n",
              "      <th>32859</th>\n",
              "      <td>25</td>\n",
              "      <td>technician</td>\n",
              "      <td>single</td>\n",
              "      <td>secondary</td>\n",
              "      <td>no</td>\n",
              "      <td>1105</td>\n",
              "      <td>yes</td>\n",
              "      <td>no</td>\n",
              "      <td>cellular</td>\n",
              "      <td>17</td>\n",
              "      <td>4</td>\n",
              "      <td>1</td>\n",
              "      <td>-1</td>\n",
              "      <td>0</td>\n",
              "      <td>1</td>\n",
              "    </tr>\n",
              "  </tbody>\n",
              "</table>\n",
              "</div>\n",
              "      <button class=\"colab-df-convert\" onclick=\"convertToInteractive('df-06c87a4e-974e-4d16-82f8-b9f3ac16a7d9')\"\n",
              "              title=\"Convert this dataframe to an interactive table.\"\n",
              "              style=\"display:none;\">\n",
              "        \n",
              "  <svg xmlns=\"http://www.w3.org/2000/svg\" height=\"24px\"viewBox=\"0 0 24 24\"\n",
              "       width=\"24px\">\n",
              "    <path d=\"M0 0h24v24H0V0z\" fill=\"none\"/>\n",
              "    <path d=\"M18.56 5.44l.94 2.06.94-2.06 2.06-.94-2.06-.94-.94-2.06-.94 2.06-2.06.94zm-11 1L8.5 8.5l.94-2.06 2.06-.94-2.06-.94L8.5 2.5l-.94 2.06-2.06.94zm10 10l.94 2.06.94-2.06 2.06-.94-2.06-.94-.94-2.06-.94 2.06-2.06.94z\"/><path d=\"M17.41 7.96l-1.37-1.37c-.4-.4-.92-.59-1.43-.59-.52 0-1.04.2-1.43.59L10.3 9.45l-7.72 7.72c-.78.78-.78 2.05 0 2.83L4 21.41c.39.39.9.59 1.41.59.51 0 1.02-.2 1.41-.59l7.78-7.78 2.81-2.81c.8-.78.8-2.07 0-2.86zM5.41 20L4 18.59l7.72-7.72 1.47 1.35L5.41 20z\"/>\n",
              "  </svg>\n",
              "      </button>\n",
              "      \n",
              "  <style>\n",
              "    .colab-df-container {\n",
              "      display:flex;\n",
              "      flex-wrap:wrap;\n",
              "      gap: 12px;\n",
              "    }\n",
              "\n",
              "    .colab-df-convert {\n",
              "      background-color: #E8F0FE;\n",
              "      border: none;\n",
              "      border-radius: 50%;\n",
              "      cursor: pointer;\n",
              "      display: none;\n",
              "      fill: #1967D2;\n",
              "      height: 32px;\n",
              "      padding: 0 0 0 0;\n",
              "      width: 32px;\n",
              "    }\n",
              "\n",
              "    .colab-df-convert:hover {\n",
              "      background-color: #E2EBFA;\n",
              "      box-shadow: 0px 1px 2px rgba(60, 64, 67, 0.3), 0px 1px 3px 1px rgba(60, 64, 67, 0.15);\n",
              "      fill: #174EA6;\n",
              "    }\n",
              "\n",
              "    [theme=dark] .colab-df-convert {\n",
              "      background-color: #3B4455;\n",
              "      fill: #D2E3FC;\n",
              "    }\n",
              "\n",
              "    [theme=dark] .colab-df-convert:hover {\n",
              "      background-color: #434B5C;\n",
              "      box-shadow: 0px 1px 3px 1px rgba(0, 0, 0, 0.15);\n",
              "      filter: drop-shadow(0px 1px 2px rgba(0, 0, 0, 0.3));\n",
              "      fill: #FFFFFF;\n",
              "    }\n",
              "  </style>\n",
              "\n",
              "      <script>\n",
              "        const buttonEl =\n",
              "          document.querySelector('#df-06c87a4e-974e-4d16-82f8-b9f3ac16a7d9 button.colab-df-convert');\n",
              "        buttonEl.style.display =\n",
              "          google.colab.kernel.accessAllowed ? 'block' : 'none';\n",
              "\n",
              "        async function convertToInteractive(key) {\n",
              "          const element = document.querySelector('#df-06c87a4e-974e-4d16-82f8-b9f3ac16a7d9');\n",
              "          const dataTable =\n",
              "            await google.colab.kernel.invokeFunction('convertToInteractive',\n",
              "                                                     [key], {});\n",
              "          if (!dataTable) return;\n",
              "\n",
              "          const docLinkHtml = 'Like what you see? Visit the ' +\n",
              "            '<a target=\"_blank\" href=https://colab.research.google.com/notebooks/data_table.ipynb>data table notebook</a>'\n",
              "            + ' to learn more about interactive tables.';\n",
              "          element.innerHTML = '';\n",
              "          dataTable['output_type'] = 'display_data';\n",
              "          await google.colab.output.renderOutput(dataTable, element);\n",
              "          const docLink = document.createElement('div');\n",
              "          docLink.innerHTML = docLinkHtml;\n",
              "          element.appendChild(docLink);\n",
              "        }\n",
              "      </script>\n",
              "    </div>\n",
              "  </div>\n",
              "  "
            ]
          },
          "metadata": {},
          "execution_count": 988
        }
      ]
    },
    {
      "cell_type": "markdown",
      "metadata": {
        "id": "BSoOtK3lC7R7"
      },
      "source": [
        "# Impute 'unknown' values"
      ]
    },
    {
      "cell_type": "markdown",
      "metadata": {
        "id": "_GNRz8xIpvlZ"
      },
      "source": [
        "## 'contact' column and imputaion of 'unknown' category\n",
        "\n",
        "Here we get the percentages of the different levels in contact column. So based on this result 64% of entries having value “cellular” and only 6% of entries having value 'telephone'. Therefore we will replace unknown values with cellular. \n"
      ]
    },
    {
      "cell_type": "code",
      "execution_count": null,
      "metadata": {
        "colab": {
          "base_uri": "https://localhost:8080/"
        },
        "id": "shOgp4rLpu2l",
        "outputId": "dec29dfa-52c2-4a15-e822-d438cf41b96a"
      },
      "outputs": [
        {
          "output_type": "execute_result",
          "data": {
            "text/plain": [
              "cellular     0.647524\n",
              "unknown      0.294360\n",
              "telephone    0.058116\n",
              "Name: contact, dtype: float64"
            ]
          },
          "metadata": {},
          "execution_count": 989
        }
      ],
      "source": [
        "X_train['contact'].value_counts()/len(X_train['contact'])"
      ]
    },
    {
      "cell_type": "code",
      "execution_count": null,
      "metadata": {
        "id": "-u85t-k980Mm"
      },
      "outputs": [],
      "source": [
        "imputer = SimpleImputer(missing_values= 'unknown', strategy='most_frequent')\n",
        "\n",
        "X_train.contact = imputer.fit_transform(X_train['contact'].values.reshape(-1,1))[:,0]\n",
        "X_test.contact = imputer.fit_transform(X_test['contact'].values.reshape(-1,1))[:,0]\n"
      ]
    },
    {
      "cell_type": "markdown",
      "metadata": {
        "id": "kbupMWHO_Lyi"
      },
      "source": [
        "## 'job' column and imputaion of 'unknown' category"
      ]
    },
    {
      "cell_type": "code",
      "execution_count": null,
      "metadata": {
        "colab": {
          "base_uri": "https://localhost:8080/"
        },
        "id": "IXnKx3Tu_1q6",
        "outputId": "9911151c-3a27-4b9d-b7fb-5841cee3550b"
      },
      "outputs": [
        {
          "output_type": "execute_result",
          "data": {
            "text/plain": [
              "blue-collar      0.221629\n",
              "management       0.202736\n",
              "technician       0.171476\n",
              "admin.           0.118106\n",
              "services         0.096121\n",
              "retired          0.039816\n",
              "self-employed    0.034976\n",
              "entrepreneur     0.033009\n",
              "unemployed       0.028106\n",
              "housemaid        0.026857\n",
              "student          0.020829\n",
              "unknown          0.006339\n",
              "Name: job, dtype: float64"
            ]
          },
          "metadata": {},
          "execution_count": 991
        }
      ],
      "source": [
        "X_train['job'].value_counts()/len(X_train['job'])"
      ]
    },
    {
      "cell_type": "code",
      "execution_count": null,
      "metadata": {
        "id": "p2rxk7Bx5lL6"
      },
      "outputs": [],
      "source": [
        "X_train.job = imputer.fit_transform(X_train['job'].values.reshape(-1,1))[:,0]\n",
        "X_test.job = imputer.fit_transform(X_test['job'].values.reshape(-1,1))[:,0]\n"
      ]
    },
    {
      "cell_type": "markdown",
      "metadata": {
        "id": "_iJPadEcEtdi"
      },
      "source": [
        "## 'edcucation' column and imputaion of 'unknown' category"
      ]
    },
    {
      "cell_type": "code",
      "execution_count": null,
      "metadata": {
        "colab": {
          "base_uri": "https://localhost:8080/"
        },
        "id": "i-1doqaVGFv7",
        "outputId": "387a0a02-897b-4c06-9064-b2f5785db383"
      },
      "outputs": [
        {
          "output_type": "execute_result",
          "data": {
            "text/plain": [
              "secondary    16910\n",
              "tertiary      9067\n",
              "primary       4781\n",
              "unknown       1264\n",
              "Name: education, dtype: int64"
            ]
          },
          "metadata": {},
          "execution_count": 993
        }
      ],
      "source": [
        "X_train['education'].value_counts()"
      ]
    },
    {
      "cell_type": "code",
      "execution_count": null,
      "metadata": {
        "id": "Wxjp_xPKIIvy"
      },
      "outputs": [],
      "source": [
        "X_train.education = imputer.fit_transform(X_train['education'].values.reshape(-1,1))[:,0]\n",
        "X_test.education = imputer.fit_transform(X_test['education'].values.reshape(-1,1))[:,0]"
      ]
    },
    {
      "cell_type": "code",
      "source": [
        "X_train= pd.get_dummies(X_train,drop_first=True)"
      ],
      "metadata": {
        "id": "NsiwRDxfcjWV"
      },
      "execution_count": null,
      "outputs": []
    },
    {
      "cell_type": "code",
      "source": [
        "X_test= pd.get_dummies(X_test,drop_first=True)"
      ],
      "metadata": {
        "id": "4843SgsacsST"
      },
      "execution_count": null,
      "outputs": []
    },
    {
      "cell_type": "code",
      "source": [
        "X_train.columns"
      ],
      "metadata": {
        "colab": {
          "base_uri": "https://localhost:8080/"
        },
        "id": "2fKosGIRe0Pi",
        "outputId": "3dbb550e-191b-4bf1-98da-5dac6e1a4e75"
      },
      "execution_count": null,
      "outputs": [
        {
          "output_type": "execute_result",
          "data": {
            "text/plain": [
              "Index(['age', 'balance', 'day', 'month', 'campaign', 'pdays', 'previous',\n",
              "       'no_contact', 'job_blue-collar', 'job_entrepreneur', 'job_housemaid',\n",
              "       'job_management', 'job_retired', 'job_self-employed', 'job_services',\n",
              "       'job_student', 'job_technician', 'job_unemployed', 'marital_married',\n",
              "       'marital_single', 'education_secondary', 'education_tertiary',\n",
              "       'default_yes', 'housing_yes', 'loan_yes', 'contact_telephone'],\n",
              "      dtype='object')"
            ]
          },
          "metadata": {},
          "execution_count": 997
        }
      ]
    },
    {
      "cell_type": "code",
      "source": [
        "X_train.loc[X_train['pdays']==-1,'pdays']=0\n"
      ],
      "metadata": {
        "id": "G74whhKAdpNl"
      },
      "execution_count": null,
      "outputs": []
    },
    {
      "cell_type": "code",
      "source": [
        "X_test.loc[X_test['pdays']==-1,'pdays']=0"
      ],
      "metadata": {
        "id": "TwWv2XaqfixH"
      },
      "execution_count": null,
      "outputs": []
    },
    {
      "cell_type": "markdown",
      "source": [
        "# Oversampling"
      ],
      "metadata": {
        "id": "p3UOyQ6Igk7W"
      }
    },
    {
      "cell_type": "code",
      "source": [
        "sm = SMOTE(random_state=42)\n",
        "X_res, y_res = sm.fit_resample(X_train, y_train)\n",
        "print('Resampled dataset shape %s' % Counter(y_res))"
      ],
      "metadata": {
        "colab": {
          "base_uri": "https://localhost:8080/"
        },
        "id": "OsNUXIa8gkXE",
        "outputId": "06489432-2b7d-407b-b464-71bb4df6648b"
      },
      "execution_count": null,
      "outputs": [
        {
          "output_type": "stream",
          "name": "stdout",
          "text": [
            "Resampled dataset shape Counter({0: 28501, 1: 28501})\n"
          ]
        }
      ]
    },
    {
      "cell_type": "code",
      "source": [
        "y_res.value_counts()"
      ],
      "metadata": {
        "colab": {
          "base_uri": "https://localhost:8080/"
        },
        "id": "Vu-9ytHihQz_",
        "outputId": "2740d0b7-71fc-46aa-cf1b-4cb4e28abce0"
      },
      "execution_count": null,
      "outputs": [
        {
          "output_type": "execute_result",
          "data": {
            "text/plain": [
              "0    28501\n",
              "1    28501\n",
              "Name: y, dtype: int64"
            ]
          },
          "metadata": {},
          "execution_count": 1001
        }
      ]
    },
    {
      "cell_type": "code",
      "source": [
        "X_res.columns"
      ],
      "metadata": {
        "colab": {
          "base_uri": "https://localhost:8080/"
        },
        "id": "9NGTAo8FiiHl",
        "outputId": "c85a564b-f5cf-48b2-c574-16b35d9123f5"
      },
      "execution_count": null,
      "outputs": [
        {
          "output_type": "execute_result",
          "data": {
            "text/plain": [
              "Index(['age', 'balance', 'day', 'month', 'campaign', 'pdays', 'previous',\n",
              "       'no_contact', 'job_blue-collar', 'job_entrepreneur', 'job_housemaid',\n",
              "       'job_management', 'job_retired', 'job_self-employed', 'job_services',\n",
              "       'job_student', 'job_technician', 'job_unemployed', 'marital_married',\n",
              "       'marital_single', 'education_secondary', 'education_tertiary',\n",
              "       'default_yes', 'housing_yes', 'loan_yes', 'contact_telephone'],\n",
              "      dtype='object')"
            ]
          },
          "metadata": {},
          "execution_count": 1002
        }
      ]
    },
    {
      "cell_type": "code",
      "source": [
        "# scale the data\n",
        "scaler=StandardScaler()\n",
        "scaler.fit_transform(X_test)\n",
        "\n",
        "X_test_scaled = pd.DataFrame(scaler.fit_transform(X_test),columns=X_test.columns)\n",
        "\n",
        "\n",
        "\n"
      ],
      "metadata": {
        "id": "dOIt-nELi8VU"
      },
      "execution_count": null,
      "outputs": []
    },
    {
      "cell_type": "code",
      "source": [
        "# scale the data\n",
        "scaler=StandardScaler()\n",
        "scaler.fit_transform(X_res)\n",
        "\n",
        "X_train_scaled = pd.DataFrame(scaler.fit_transform(X_res),columns=X_res.columns)"
      ],
      "metadata": {
        "id": "I5WtscNtofAq"
      },
      "execution_count": null,
      "outputs": []
    },
    {
      "cell_type": "code",
      "source": [
        "X_train_scaled.shape"
      ],
      "metadata": {
        "colab": {
          "base_uri": "https://localhost:8080/"
        },
        "id": "WM5RRUbJjRJQ",
        "outputId": "3a11e5d0-0ba7-49ed-bc40-1c9024ead9e8"
      },
      "execution_count": null,
      "outputs": [
        {
          "output_type": "execute_result",
          "data": {
            "text/plain": [
              "(57002, 26)"
            ]
          },
          "metadata": {},
          "execution_count": 1006
        }
      ]
    },
    {
      "cell_type": "code",
      "source": [
        "X_test_scaled.shape"
      ],
      "metadata": {
        "colab": {
          "base_uri": "https://localhost:8080/"
        },
        "id": "TcDZodMmtB0k",
        "outputId": "bb484f52-728c-4901-962e-84417f01a4c1"
      },
      "execution_count": null,
      "outputs": [
        {
          "output_type": "execute_result",
          "data": {
            "text/plain": [
              "(8006, 26)"
            ]
          },
          "metadata": {},
          "execution_count": 1007
        }
      ]
    },
    {
      "cell_type": "markdown",
      "metadata": {
        "id": "x0mJdXlQk1rd"
      },
      "source": [
        "# Feature Extraction\n",
        "## Binary Feature Encoding"
      ]
    },
    {
      "cell_type": "code",
      "execution_count": null,
      "metadata": {
        "id": "H78r_P5iU_fJ"
      },
      "outputs": [],
      "source": [
        "# simple mapping on binary features on X_train\n",
        "#X_train['default'] = X_train['default'].apply(\n",
        "#    lambda x: 1 if x == 'yes' else (0 if x == 'no' else None))\n",
        "\n",
        "#X_train['housing'] = X_train['housing'].apply(\n",
        " #   lambda x: 1 if x == 'yes' else (0 if x == 'no' else None))\n",
        "\n",
        "#X_train['loan'] = X_train['loan'].apply(\n",
        "#    lambda x: 1 if x == 'yes' else (0 if x == 'no' else None))\n",
        "\n",
        "\n",
        "# simple mapping on binary features on X_test\n",
        "#X_test['default'] = X_test['default'].apply(\n",
        "#    lambda x: 1 if x == 'yes' else (0 if x == 'no' else None))\n",
        "\n",
        "#X_test['housing'] = X_test['housing'].apply(\n",
        "#    lambda x: 1 if x == 'yes' else (0 if x == 'no' else None))\n",
        "\n",
        "#X_test['loan'] = X_test['loan'].apply(\n",
        " #   lambda x: 1 if x == 'yes' else (0 if x == 'no' else None))"
      ]
    },
    {
      "cell_type": "markdown",
      "metadata": {
        "id": "FqraOotbXKi9"
      },
      "source": [
        "## Nominal Encoding (One-Hot Encoding)"
      ]
    },
    {
      "cell_type": "code",
      "execution_count": null,
      "metadata": {
        "id": "ycPh3q9tMKOi"
      },
      "outputs": [],
      "source": [
        "# one hot encoding for X_train\n",
        "#nominal_cols= X_train[['job','contact','month','marital']]\n",
        "\n",
        "#ohe = OneHotEncoder(sparse=False).fit(nominal_cols)\n",
        "\n",
        "#nominal_train_df = pd.DataFrame(ohe.transform(nominal_cols),\n",
        "    #                columns=ohe.get_feature_names(['job','contact','month','marital']))\n",
        "\n",
        "\n",
        "\n",
        "# one hot encoding for X_test\n",
        "#nominal_cols= X_test[['job','contact','month','marital']]\n",
        "\n",
        "#ohe = OneHotEncoder(sparse=False).fit(nominal_cols)\n",
        "\n",
        "#nominal_test_df= pd.DataFrame(ohe.transform(nominal_cols),\n",
        "#                    columns=ohe.get_feature_names(['job','contact','month','marital']))"
      ]
    },
    {
      "cell_type": "code",
      "execution_count": null,
      "metadata": {
        "id": "Rlg0noMm2Ory"
      },
      "outputs": [],
      "source": [
        "#print(nominal_train_df.shape)\n",
        "#print(nominal_test_df.shape)"
      ]
    },
    {
      "cell_type": "markdown",
      "metadata": {
        "id": "eSdH8IKE0McT"
      },
      "source": [
        "## Ordinal Encoding"
      ]
    },
    {
      "cell_type": "code",
      "execution_count": null,
      "metadata": {
        "id": "Tp-xWHYB0Pru"
      },
      "outputs": [],
      "source": [
        "# ordinal encoding for X_train\n",
        "#ordinal_cols = X_train[['education']]\n",
        "#enc = OrdinalEncoder().fit(ordinal_cols)\n",
        "#ordinal_train_df = pd.DataFrame(enc.transform(ordinal_cols),\n",
        "#                    columns=list(ordinal_cols))\n",
        "\n",
        "\n",
        "# ordinal encoding for X_test\n",
        "#ordinal_cols = X_test[['education']]\n",
        "#enc = OrdinalEncoder().fit(ordinal_cols)\n",
        "#ordinal_test_df = pd.DataFrame(enc.transform(ordinal_cols),\n",
        "#                    columns=list(ordinal_cols))"
      ]
    },
    {
      "cell_type": "code",
      "execution_count": null,
      "metadata": {
        "id": "MbvOVoiD2HZd"
      },
      "outputs": [],
      "source": [
        "#print(ordinal_train_df.shape)\n",
        "#print(ordinal_test_df.shape)"
      ]
    },
    {
      "cell_type": "code",
      "execution_count": null,
      "metadata": {
        "id": "F-tp1HPz25VI"
      },
      "outputs": [],
      "source": [
        "# Numerical Data\n",
        "#numerical_train_df= X_train.drop(['job','contact','month','marital','education'], axis=1)\n",
        "#numerical_test_df= X_test.drop(['job','contact','month','marital','education'], axis=1)\n"
      ]
    },
    {
      "cell_type": "code",
      "execution_count": null,
      "metadata": {
        "id": "eKDwPxNN5Jlb"
      },
      "outputs": [],
      "source": [
        "#print(numerical_train_df.shape)\n",
        "#print(numerical_test_df.shape)"
      ]
    },
    {
      "cell_type": "code",
      "source": [
        "#X_train.head()"
      ],
      "metadata": {
        "id": "TdL6YEbbFYQK"
      },
      "execution_count": null,
      "outputs": []
    },
    {
      "cell_type": "markdown",
      "metadata": {
        "id": "dil8V0O85Xae"
      },
      "source": [
        "##combines data frames"
      ]
    },
    {
      "cell_type": "code",
      "execution_count": null,
      "metadata": {
        "id": "oC-dUXQJ5Y0R"
      },
      "outputs": [],
      "source": [
        "# final X_train\n",
        "#X_train = pd.concat([numerical_train_df.reset_index(drop=True), ordinal_train_df.reset_index(drop=True),nominal_train_df.reset_index(drop=True)], axis=1)\n",
        "\n",
        "#final X_test\n",
        "#X_test = pd.concat([numerical_test_df.reset_index(drop=True), ordinal_test_df.reset_index(drop=True),nominal_test_df.reset_index(drop=True)], axis=1)\n",
        "\n"
      ]
    },
    {
      "cell_type": "code",
      "execution_count": null,
      "metadata": {
        "id": "2jvDUmp-6rl3"
      },
      "outputs": [],
      "source": [
        "#print(X_train.shape)\n",
        "#print(X_test.shape)\n"
      ]
    },
    {
      "cell_type": "code",
      "execution_count": null,
      "metadata": {
        "id": "xUH6F7kbzyui"
      },
      "outputs": [],
      "source": [
        "#X_train.head()"
      ]
    },
    {
      "cell_type": "markdown",
      "metadata": {
        "id": "XnyTyD3owUJ7"
      },
      "source": [
        "# Modeling"
      ]
    },
    {
      "cell_type": "markdown",
      "metadata": {
        "id": "p1aaQzSD6djf"
      },
      "source": [
        "# Stochastic Gradient Descent (SGD Classifier)"
      ]
    },
    {
      "cell_type": "code",
      "execution_count": null,
      "metadata": {
        "id": "FvJNdIMrynoH"
      },
      "outputs": [],
      "source": [
        "loss_f = ['log', 'hinge', 'perceptron'] \n",
        "scores_list = []\n",
        "avg_list = []\n",
        "for i, loss in enumerate(loss_f):\n",
        "  model1 = SGDClassifier(loss=loss,class_weight='balanced').fit(X_train_scaled,y_res)\n",
        "  cv = cross_val_score(model1, X_train_scaled, y_res, cv=5,scoring='accuracy')\n",
        "  scores_list.append({'model1':loss, 'cv':cv })\n",
        "  avg_list.append({'model1':loss, 'Average Cross Validation':cv.mean()})"
      ]
    },
    {
      "cell_type": "code",
      "execution_count": null,
      "metadata": {
        "colab": {
          "base_uri": "https://localhost:8080/",
          "height": 144
        },
        "id": "WcudJbYI1lqT",
        "outputId": "2ac9aca6-dc87-4726-8c7a-2fe797ea6979"
      },
      "outputs": [
        {
          "output_type": "execute_result",
          "data": {
            "text/plain": [
              "       model1  Average Cross Validation\n",
              "0         log                  0.919164\n",
              "1       hinge                  0.921146\n",
              "2  perceptron                  0.877832"
            ],
            "text/html": [
              "\n",
              "  <div id=\"df-3515b884-ca70-4dc8-8dc1-1db5316d39e1\">\n",
              "    <div class=\"colab-df-container\">\n",
              "      <div>\n",
              "<style scoped>\n",
              "    .dataframe tbody tr th:only-of-type {\n",
              "        vertical-align: middle;\n",
              "    }\n",
              "\n",
              "    .dataframe tbody tr th {\n",
              "        vertical-align: top;\n",
              "    }\n",
              "\n",
              "    .dataframe thead th {\n",
              "        text-align: right;\n",
              "    }\n",
              "</style>\n",
              "<table border=\"1\" class=\"dataframe\">\n",
              "  <thead>\n",
              "    <tr style=\"text-align: right;\">\n",
              "      <th></th>\n",
              "      <th>model1</th>\n",
              "      <th>Average Cross Validation</th>\n",
              "    </tr>\n",
              "  </thead>\n",
              "  <tbody>\n",
              "    <tr>\n",
              "      <th>0</th>\n",
              "      <td>log</td>\n",
              "      <td>0.919164</td>\n",
              "    </tr>\n",
              "    <tr>\n",
              "      <th>1</th>\n",
              "      <td>hinge</td>\n",
              "      <td>0.921146</td>\n",
              "    </tr>\n",
              "    <tr>\n",
              "      <th>2</th>\n",
              "      <td>perceptron</td>\n",
              "      <td>0.877832</td>\n",
              "    </tr>\n",
              "  </tbody>\n",
              "</table>\n",
              "</div>\n",
              "      <button class=\"colab-df-convert\" onclick=\"convertToInteractive('df-3515b884-ca70-4dc8-8dc1-1db5316d39e1')\"\n",
              "              title=\"Convert this dataframe to an interactive table.\"\n",
              "              style=\"display:none;\">\n",
              "        \n",
              "  <svg xmlns=\"http://www.w3.org/2000/svg\" height=\"24px\"viewBox=\"0 0 24 24\"\n",
              "       width=\"24px\">\n",
              "    <path d=\"M0 0h24v24H0V0z\" fill=\"none\"/>\n",
              "    <path d=\"M18.56 5.44l.94 2.06.94-2.06 2.06-.94-2.06-.94-.94-2.06-.94 2.06-2.06.94zm-11 1L8.5 8.5l.94-2.06 2.06-.94-2.06-.94L8.5 2.5l-.94 2.06-2.06.94zm10 10l.94 2.06.94-2.06 2.06-.94-2.06-.94-.94-2.06-.94 2.06-2.06.94z\"/><path d=\"M17.41 7.96l-1.37-1.37c-.4-.4-.92-.59-1.43-.59-.52 0-1.04.2-1.43.59L10.3 9.45l-7.72 7.72c-.78.78-.78 2.05 0 2.83L4 21.41c.39.39.9.59 1.41.59.51 0 1.02-.2 1.41-.59l7.78-7.78 2.81-2.81c.8-.78.8-2.07 0-2.86zM5.41 20L4 18.59l7.72-7.72 1.47 1.35L5.41 20z\"/>\n",
              "  </svg>\n",
              "      </button>\n",
              "      \n",
              "  <style>\n",
              "    .colab-df-container {\n",
              "      display:flex;\n",
              "      flex-wrap:wrap;\n",
              "      gap: 12px;\n",
              "    }\n",
              "\n",
              "    .colab-df-convert {\n",
              "      background-color: #E8F0FE;\n",
              "      border: none;\n",
              "      border-radius: 50%;\n",
              "      cursor: pointer;\n",
              "      display: none;\n",
              "      fill: #1967D2;\n",
              "      height: 32px;\n",
              "      padding: 0 0 0 0;\n",
              "      width: 32px;\n",
              "    }\n",
              "\n",
              "    .colab-df-convert:hover {\n",
              "      background-color: #E2EBFA;\n",
              "      box-shadow: 0px 1px 2px rgba(60, 64, 67, 0.3), 0px 1px 3px 1px rgba(60, 64, 67, 0.15);\n",
              "      fill: #174EA6;\n",
              "    }\n",
              "\n",
              "    [theme=dark] .colab-df-convert {\n",
              "      background-color: #3B4455;\n",
              "      fill: #D2E3FC;\n",
              "    }\n",
              "\n",
              "    [theme=dark] .colab-df-convert:hover {\n",
              "      background-color: #434B5C;\n",
              "      box-shadow: 0px 1px 3px 1px rgba(0, 0, 0, 0.15);\n",
              "      filter: drop-shadow(0px 1px 2px rgba(0, 0, 0, 0.3));\n",
              "      fill: #FFFFFF;\n",
              "    }\n",
              "  </style>\n",
              "\n",
              "      <script>\n",
              "        const buttonEl =\n",
              "          document.querySelector('#df-3515b884-ca70-4dc8-8dc1-1db5316d39e1 button.colab-df-convert');\n",
              "        buttonEl.style.display =\n",
              "          google.colab.kernel.accessAllowed ? 'block' : 'none';\n",
              "\n",
              "        async function convertToInteractive(key) {\n",
              "          const element = document.querySelector('#df-3515b884-ca70-4dc8-8dc1-1db5316d39e1');\n",
              "          const dataTable =\n",
              "            await google.colab.kernel.invokeFunction('convertToInteractive',\n",
              "                                                     [key], {});\n",
              "          if (!dataTable) return;\n",
              "\n",
              "          const docLinkHtml = 'Like what you see? Visit the ' +\n",
              "            '<a target=\"_blank\" href=https://colab.research.google.com/notebooks/data_table.ipynb>data table notebook</a>'\n",
              "            + ' to learn more about interactive tables.';\n",
              "          element.innerHTML = '';\n",
              "          dataTable['output_type'] = 'display_data';\n",
              "          await google.colab.output.renderOutput(dataTable, element);\n",
              "          const docLink = document.createElement('div');\n",
              "          docLink.innerHTML = docLinkHtml;\n",
              "          element.appendChild(docLink);\n",
              "        }\n",
              "      </script>\n",
              "    </div>\n",
              "  </div>\n",
              "  "
            ]
          },
          "metadata": {},
          "execution_count": 867
        }
      ],
      "source": [
        "#Table of Average cross-validation scores\n",
        "pd.DataFrame(avg_list)"
      ]
    },
    {
      "cell_type": "code",
      "execution_count": null,
      "metadata": {
        "colab": {
          "base_uri": "https://localhost:8080/",
          "height": 414
        },
        "id": "t3m58MLJ5uL3",
        "outputId": "ac228d45-a2f1-423b-9092-2fe66e4e93a5"
      },
      "outputs": [
        {
          "output_type": "stream",
          "name": "stderr",
          "text": [
            "/usr/local/lib/python3.7/dist-packages/seaborn/distributions.py:2619: FutureWarning: `distplot` is a deprecated function and will be removed in a future version. Please adapt your code to use either `displot` (a figure-level function with similar flexibility) or `histplot` (an axes-level function for histograms).\n",
            "  warnings.warn(msg, FutureWarning)\n",
            "/usr/local/lib/python3.7/dist-packages/seaborn/distributions.py:2619: FutureWarning: `distplot` is a deprecated function and will be removed in a future version. Please adapt your code to use either `displot` (a figure-level function with similar flexibility) or `histplot` (an axes-level function for histograms).\n",
            "  warnings.warn(msg, FutureWarning)\n",
            "/usr/local/lib/python3.7/dist-packages/seaborn/distributions.py:2619: FutureWarning: `distplot` is a deprecated function and will be removed in a future version. Please adapt your code to use either `displot` (a figure-level function with similar flexibility) or `histplot` (an axes-level function for histograms).\n",
            "  warnings.warn(msg, FutureWarning)\n"
          ]
        },
        {
          "output_type": "display_data",
          "data": {
            "text/plain": [
              "<Figure size 432x288 with 1 Axes>"
            ],
            "image/png": "[encoded data removed]"
          },
          "metadata": {
            "needs_background": "light"
          }
        }
      ],
      "source": [
        "scores_df = pd.DataFrame(scores_list)\n",
        "\n",
        "#plot hinge, log and perceptron\n",
        "sns.distplot(scores_list[0]['cv'],label='log')\n",
        "sns.distplot(scores_list[1]['cv'],label='hinge')\n",
        "sns.distplot(scores_list[2]['cv'],label='perceptron')\n",
        "plt.title('SGD Classifiers using Cross Validation', size=16)\n",
        "plt.legend()\n",
        "plt.show()"
      ]
    },
    {
      "cell_type": "markdown",
      "metadata": {
        "id": "Ty1j5faXFMs6"
      },
      "source": [
        "## SGD Classifier with regularization"
      ]
    },
    {
      "cell_type": "code",
      "execution_count": null,
      "metadata": {
        "id": "zkW_YoA469jj"
      },
      "outputs": [],
      "source": [
        "alphas = [0.0001, 0.001, 0.01, 0.1, 1, 10, 100, 1000]\n",
        "results = []\n",
        "avg_list=[]\n",
        "for a in alphas:\n",
        "  model2 =SGDClassifier(loss='log',penalty='l1' , alpha=a,class_weight='balanced').fit(X_train_scaled,y_res)\n",
        "  model3 =SGDClassifier(loss='log',penalty='l2' , alpha=a,class_weight='balanced').fit(X_train_scaled,y_res)\n",
        "  l1cv = cross_val_score(model2, X_train_scaled,y_res, cv=5 , scoring='accuracy')\n",
        "  l2cv = cross_val_score(model3, X_train_scaled,y_res, cv=5 , scoring='accuracy')\n",
        "  results.append({'alpha': a, 'log L1': l1cv, 'log L2': l2cv})\n",
        "  avg_list.append({'alpha':a, 'log L1':l1cv.mean() , 'log L2':l2cv.mean()})"
      ]
    },
    {
      "cell_type": "code",
      "execution_count": null,
      "metadata": {
        "colab": {
          "base_uri": "https://localhost:8080/",
          "height": 300
        },
        "id": "MZAQ1ntO7ovl",
        "outputId": "2a3f7564-b8c9-40cf-c41e-bd48eb881c98"
      },
      "outputs": [
        {
          "output_type": "execute_result",
          "data": {
            "text/plain": [
              "       alpha    log L1    log L2\n",
              "0     0.0001  0.920321  0.920041\n",
              "1     0.0010  0.921725  0.920637\n",
              "2     0.0100  0.909234  0.921181\n",
              "3     0.1000  0.705064  0.917392\n",
              "4     1.0000  0.500018  0.906304\n",
              "5    10.0000  0.500000  0.501228\n",
              "6   100.0000  0.500000  0.499982\n",
              "7  1000.0000  0.500000  0.499982"
            ],
            "text/html": [
              "\n",
              "  <div id=\"df-49a53c78-7b00-4a47-a6c9-f56d172aa121\">\n",
              "    <div class=\"colab-df-container\">\n",
              "      <div>\n",
              "<style scoped>\n",
              "    .dataframe tbody tr th:only-of-type {\n",
              "        vertical-align: middle;\n",
              "    }\n",
              "\n",
              "    .dataframe tbody tr th {\n",
              "        vertical-align: top;\n",
              "    }\n",
              "\n",
              "    .dataframe thead th {\n",
              "        text-align: right;\n",
              "    }\n",
              "</style>\n",
              "<table border=\"1\" class=\"dataframe\">\n",
              "  <thead>\n",
              "    <tr style=\"text-align: right;\">\n",
              "      <th></th>\n",
              "      <th>alpha</th>\n",
              "      <th>log L1</th>\n",
              "      <th>log L2</th>\n",
              "    </tr>\n",
              "  </thead>\n",
              "  <tbody>\n",
              "    <tr>\n",
              "      <th>0</th>\n",
              "      <td>0.0001</td>\n",
              "      <td>0.920321</td>\n",
              "      <td>0.920041</td>\n",
              "    </tr>\n",
              "    <tr>\n",
              "      <th>1</th>\n",
              "      <td>0.0010</td>\n",
              "      <td>0.921725</td>\n",
              "      <td>0.920637</td>\n",
              "    </tr>\n",
              "    <tr>\n",
              "      <th>2</th>\n",
              "      <td>0.0100</td>\n",
              "      <td>0.909234</td>\n",
              "      <td>0.921181</td>\n",
              "    </tr>\n",
              "    <tr>\n",
              "      <th>3</th>\n",
              "      <td>0.1000</td>\n",
              "      <td>0.705064</td>\n",
              "      <td>0.917392</td>\n",
              "    </tr>\n",
              "    <tr>\n",
              "      <th>4</th>\n",
              "      <td>1.0000</td>\n",
              "      <td>0.500018</td>\n",
              "      <td>0.906304</td>\n",
              "    </tr>\n",
              "    <tr>\n",
              "      <th>5</th>\n",
              "      <td>10.0000</td>\n",
              "      <td>0.500000</td>\n",
              "      <td>0.501228</td>\n",
              "    </tr>\n",
              "    <tr>\n",
              "      <th>6</th>\n",
              "      <td>100.0000</td>\n",
              "      <td>0.500000</td>\n",
              "      <td>0.499982</td>\n",
              "    </tr>\n",
              "    <tr>\n",
              "      <th>7</th>\n",
              "      <td>1000.0000</td>\n",
              "      <td>0.500000</td>\n",
              "      <td>0.499982</td>\n",
              "    </tr>\n",
              "  </tbody>\n",
              "</table>\n",
              "</div>\n",
              "      <button class=\"colab-df-convert\" onclick=\"convertToInteractive('df-49a53c78-7b00-4a47-a6c9-f56d172aa121')\"\n",
              "              title=\"Convert this dataframe to an interactive table.\"\n",
              "              style=\"display:none;\">\n",
              "        \n",
              "  <svg xmlns=\"http://www.w3.org/2000/svg\" height=\"24px\"viewBox=\"0 0 24 24\"\n",
              "       width=\"24px\">\n",
              "    <path d=\"M0 0h24v24H0V0z\" fill=\"none\"/>\n",
              "    <path d=\"M18.56 5.44l.94 2.06.94-2.06 2.06-.94-2.06-.94-.94-2.06-.94 2.06-2.06.94zm-11 1L8.5 8.5l.94-2.06 2.06-.94-2.06-.94L8.5 2.5l-.94 2.06-2.06.94zm10 10l.94 2.06.94-2.06 2.06-.94-2.06-.94-.94-2.06-.94 2.06-2.06.94z\"/><path d=\"M17.41 7.96l-1.37-1.37c-.4-.4-.92-.59-1.43-.59-.52 0-1.04.2-1.43.59L10.3 9.45l-7.72 7.72c-.78.78-.78 2.05 0 2.83L4 21.41c.39.39.9.59 1.41.59.51 0 1.02-.2 1.41-.59l7.78-7.78 2.81-2.81c.8-.78.8-2.07 0-2.86zM5.41 20L4 18.59l7.72-7.72 1.47 1.35L5.41 20z\"/>\n",
              "  </svg>\n",
              "      </button>\n",
              "      \n",
              "  <style>\n",
              "    .colab-df-container {\n",
              "      display:flex;\n",
              "      flex-wrap:wrap;\n",
              "      gap: 12px;\n",
              "    }\n",
              "\n",
              "    .colab-df-convert {\n",
              "      background-color: #E8F0FE;\n",
              "      border: none;\n",
              "      border-radius: 50%;\n",
              "      cursor: pointer;\n",
              "      display: none;\n",
              "      fill: #1967D2;\n",
              "      height: 32px;\n",
              "      padding: 0 0 0 0;\n",
              "      width: 32px;\n",
              "    }\n",
              "\n",
              "    .colab-df-convert:hover {\n",
              "      background-color: #E2EBFA;\n",
              "      box-shadow: 0px 1px 2px rgba(60, 64, 67, 0.3), 0px 1px 3px 1px rgba(60, 64, 67, 0.15);\n",
              "      fill: #174EA6;\n",
              "    }\n",
              "\n",
              "    [theme=dark] .colab-df-convert {\n",
              "      background-color: #3B4455;\n",
              "      fill: #D2E3FC;\n",
              "    }\n",
              "\n",
              "    [theme=dark] .colab-df-convert:hover {\n",
              "      background-color: #434B5C;\n",
              "      box-shadow: 0px 1px 3px 1px rgba(0, 0, 0, 0.15);\n",
              "      filter: drop-shadow(0px 1px 2px rgba(0, 0, 0, 0.3));\n",
              "      fill: #FFFFFF;\n",
              "    }\n",
              "  </style>\n",
              "\n",
              "      <script>\n",
              "        const buttonEl =\n",
              "          document.querySelector('#df-49a53c78-7b00-4a47-a6c9-f56d172aa121 button.colab-df-convert');\n",
              "        buttonEl.style.display =\n",
              "          google.colab.kernel.accessAllowed ? 'block' : 'none';\n",
              "\n",
              "        async function convertToInteractive(key) {\n",
              "          const element = document.querySelector('#df-49a53c78-7b00-4a47-a6c9-f56d172aa121');\n",
              "          const dataTable =\n",
              "            await google.colab.kernel.invokeFunction('convertToInteractive',\n",
              "                                                     [key], {});\n",
              "          if (!dataTable) return;\n",
              "\n",
              "          const docLinkHtml = 'Like what you see? Visit the ' +\n",
              "            '<a target=\"_blank\" href=https://colab.research.google.com/notebooks/data_table.ipynb>data table notebook</a>'\n",
              "            + ' to learn more about interactive tables.';\n",
              "          element.innerHTML = '';\n",
              "          dataTable['output_type'] = 'display_data';\n",
              "          await google.colab.output.renderOutput(dataTable, element);\n",
              "          const docLink = document.createElement('div');\n",
              "          docLink.innerHTML = docLinkHtml;\n",
              "          element.appendChild(docLink);\n",
              "        }\n",
              "      </script>\n",
              "    </div>\n",
              "  </div>\n",
              "  "
            ]
          },
          "metadata": {},
          "execution_count": 870
        }
      ],
      "source": [
        "#Accuracy Table by alpha value\n",
        "reg_df=pd.DataFrame(avg_list)\n",
        "reg_df\n"
      ]
    },
    {
      "cell_type": "code",
      "execution_count": null,
      "metadata": {
        "colab": {
          "base_uri": "https://localhost:8080/",
          "height": 316
        },
        "id": "yUDBwyzB8GTV",
        "outputId": "7354adad-94d7-46f1-a46a-d80dd1baf031"
      },
      "outputs": [
        {
          "output_type": "execute_result",
          "data": {
            "text/plain": [
              "<matplotlib.legend.Legend at 0x7f16788ecd10>"
            ]
          },
          "metadata": {},
          "execution_count": 871
        },
        {
          "output_type": "display_data",
          "data": {
            "text/plain": [
              "<Figure size 432x288 with 1 Axes>"
            ],
            "image/png": "[encoded data removed]"
          },
          "metadata": {
            "needs_background": "light"
          }
        }
      ],
      "source": [
        "#L1/L2 Regularization Accuracy Plot\n",
        "plt.plot (reg_df['log L1'],label=\"log L1\")\n",
        "plt.plot (reg_df['log L2'],label=\"log L2\")\n",
        "plt.xlabel('alpha')\n",
        "plt.ylabel('accuracy')\n",
        "plt.xticks(range(len(reg_df['alpha'])),reg_df['alpha'])\n",
        "plt.title('Regularization Accuracy', size=16)\n",
        "plt.legend()"
      ]
    },
    {
      "cell_type": "code",
      "execution_count": null,
      "metadata": {
        "colab": {
          "base_uri": "https://localhost:8080/",
          "height": 618
        },
        "id": "3sT3lgJaNL19",
        "outputId": "16c34618-37d2-422c-834c-bea527c33761"
      },
      "outputs": [
        {
          "output_type": "stream",
          "name": "stdout",
          "text": [
            "0.8970771921059205\n",
            "[[7182    0]\n",
            " [ 824    0]]\n",
            "              precision    recall  f1-score   support\n",
            "\n",
            "           0       0.90      1.00      0.95      7182\n",
            "           1       0.00      0.00      0.00       824\n",
            "\n",
            "    accuracy                           0.90      8006\n",
            "   macro avg       0.45      0.50      0.47      8006\n",
            "weighted avg       0.80      0.90      0.85      8006\n",
            "\n"
          ]
        },
        {
          "output_type": "stream",
          "name": "stderr",
          "text": [
            "/usr/local/lib/python3.7/dist-packages/sklearn/metrics/_classification.py:1318: UndefinedMetricWarning: Precision and F-score are ill-defined and being set to 0.0 in labels with no predicted samples. Use `zero_division` parameter to control this behavior.\n",
            "  _warn_prf(average, modifier, msg_start, len(result))\n",
            "/usr/local/lib/python3.7/dist-packages/sklearn/metrics/_classification.py:1318: UndefinedMetricWarning: Precision and F-score are ill-defined and being set to 0.0 in labels with no predicted samples. Use `zero_division` parameter to control this behavior.\n",
            "  _warn_prf(average, modifier, msg_start, len(result))\n",
            "/usr/local/lib/python3.7/dist-packages/sklearn/metrics/_classification.py:1318: UndefinedMetricWarning: Precision and F-score are ill-defined and being set to 0.0 in labels with no predicted samples. Use `zero_division` parameter to control this behavior.\n",
            "  _warn_prf(average, modifier, msg_start, len(result))\n"
          ]
        },
        {
          "output_type": "display_data",
          "data": {
            "text/plain": [
              "<Figure size 432x288 with 2 Axes>"
            ],
            "image/png": "[encoded data removed]"
          },
          "metadata": {
            "needs_background": "light"
          }
        }
      ],
      "source": [
        "#validate the model\n",
        "prediction2=model2.predict(X_test)\n",
        "print(accuracy_score(y_test, prediction2))\n",
        "\n",
        "\n",
        "#Confusion matrix\n",
        "cm=confusion_matrix(y_test,prediction2)\n",
        "print(cm)\n",
        "sns.heatmap(cm,annot=True)\n",
        "\n",
        "print(classification_report(y_test, prediction2))\n"
      ]
    },
    {
      "cell_type": "code",
      "execution_count": null,
      "metadata": {
        "colab": {
          "base_uri": "https://localhost:8080/",
          "height": 487
        },
        "id": "eNwLZ4-5NfI2",
        "outputId": "f4f6e99a-3fa2-4361-da56-233b0c55754e"
      },
      "outputs": [
        {
          "output_type": "stream",
          "name": "stdout",
          "text": [
            "0.10379715213589807\n",
            "[[   7 7175]\n",
            " [   0  824]]\n",
            "              precision    recall  f1-score   support\n",
            "\n",
            "           0       1.00      0.00      0.00      7182\n",
            "           1       0.10      1.00      0.19       824\n",
            "\n",
            "    accuracy                           0.10      8006\n",
            "   macro avg       0.55      0.50      0.09      8006\n",
            "weighted avg       0.91      0.10      0.02      8006\n",
            "\n"
          ]
        },
        {
          "output_type": "display_data",
          "data": {
            "text/plain": [
              "<Figure size 432x288 with 2 Axes>"
            ],
            "image/png": "[encoded data removed]"
          },
          "metadata": {
            "needs_background": "light"
          }
        }
      ],
      "source": [
        "#validate the model\n",
        "prediction3=model3.predict(X_test)\n",
        "print(accuracy_score(y_test, prediction3))\n",
        "\n",
        "\n",
        "#Confusion matrix\n",
        "cm=confusion_matrix(y_test,prediction3)\n",
        "print(cm)\n",
        "sns.heatmap(cm,annot=True)\n",
        "\n",
        "print(classification_report(y_test, prediction3))"
      ]
    },
    {
      "cell_type": "markdown",
      "metadata": {
        "id": "4XyVfu_veyj6"
      },
      "source": [
        "## Logistic Regression"
      ]
    },
    {
      "cell_type": "code",
      "execution_count": null,
      "metadata": {
        "id": "Kyx1O_2x72kT"
      },
      "outputs": [],
      "source": [
        "#Logistic Regression and tuning hyperparameters \n",
        "tuned_parameters = {'C': [0.1, 0.5, 1, 5, 10, 50, 100]}\n",
        "lr =LogisticRegression(solver='liblinear',random_state=42,class_weight='balanced')\n",
        "model4= GridSearchCV(lr, tuned_parameters, cv=5, scoring=\"accuracy\")\n",
        "model4.fit(X_train_scaled, y_res)\n",
        "\n",
        "#validate the model\n",
        "prediction4=model4.predict(X_test)\n",
        "print(accuracy_score(y_tes, prediction4))\n",
        "\n",
        "#Confusion matrix\n",
        "cm=confusion_matrix(y_test,prediction4)\n",
        "print(cm)\n",
        "sns.heatmap(cm,annot=True)\n",
        "\n",
        "print(classification_report(y_test, prediction4))\n",
        "\n"
      ]
    },
    {
      "cell_type": "code",
      "execution_count": null,
      "metadata": {
        "colab": {
          "base_uri": "https://localhost:8080/"
        },
        "id": "D7xq_h-OGsXT",
        "outputId": "87cabfa2-d85e-4912-aa7e-68aa2881405e"
      },
      "outputs": [
        {
          "output_type": "execute_result",
          "data": {
            "text/plain": [
              "{'C': 0.1}"
            ]
          },
          "metadata": {},
          "execution_count": 695
        }
      ],
      "source": [
        "#best parameters for Logistic Regression classifier\n",
        "model4.best_params_"
      ]
    },
    {
      "cell_type": "code",
      "execution_count": null,
      "metadata": {
        "colab": {
          "base_uri": "https://localhost:8080/",
          "height": 295
        },
        "id": "nQadLiWygiP-",
        "outputId": "b80a8a55-be28-442d-d310-5e1ade3ae5d1"
      },
      "outputs": [
        {
          "output_type": "display_data",
          "data": {
            "text/plain": [
              "<Figure size 432x288 with 1 Axes>"
            ],
            "image/png": "[encoded data removed]"
          },
          "metadata": {
            "needs_background": "light"
          }
        }
      ],
      "source": [
        "# ROC Curve for Logistic Regression\n",
        "\n",
        "fpr, tpr,_ = metrics.roc_curve(y_test_u, prediction4)\n",
        "auc = metrics.roc_auc_score(y_test_u, prediction4)\n",
        "\n",
        "\n",
        "plt.plot(fpr,tpr,label=\"AUC=\"+str(auc))\n",
        "plt.ylabel('True Positive Rate')\n",
        "plt.xlabel('False Positive Rate')\n",
        "plt.legend(loc=4)\n",
        "plt.title('ROC Curve for Logistic Regression')\n",
        "plt.show()"
      ]
    },
    {
      "cell_type": "markdown",
      "metadata": {
        "id": "AVUergt5fpeR"
      },
      "source": [
        "# KNN"
      ]
    },
    {
      "cell_type": "code",
      "execution_count": null,
      "metadata": {
        "id": "28T-IKL8fupg",
        "colab": {
          "base_uri": "https://localhost:8080/",
          "height": 506
        },
        "outputId": "5a407a01-5729-4db5-b425-79b2fde4105d"
      },
      "outputs": [
        {
          "output_type": "stream",
          "name": "stdout",
          "text": [
            "Fitting 5 folds for each of 30 candidates, totalling 150 fits\n",
            "0.8839986730067455\n",
            "[[7910   42]\n",
            " [1007   84]]\n",
            "              precision    recall  f1-score   support\n",
            "\n",
            "           0       0.89      0.99      0.94      7952\n",
            "           1       0.67      0.08      0.14      1091\n",
            "\n",
            "    accuracy                           0.88      9043\n",
            "   macro avg       0.78      0.54      0.54      9043\n",
            "weighted avg       0.86      0.88      0.84      9043\n",
            "\n"
          ]
        },
        {
          "output_type": "display_data",
          "data": {
            "text/plain": [
              "<Figure size 432x288 with 2 Axes>"
            ],
            "image/png": "[encoded data removed]"
          },
          "metadata": {
            "needs_background": "light"
          }
        }
      ],
      "source": [
        "from sklearn.utils import class_weight\n",
        "# knn and tuning hyperparameters \n",
        "k_range = list(range(1, 31))\n",
        "tuned_parameters= dict(n_neighbors=k_range)\n",
        "\n",
        "knn = KNeighborsClassifier()\n",
        "model5=GridSearchCV(knn, tuned_parameters, cv=5, scoring='accuracy', return_train_score=False,verbose=1)\n",
        "model5.fit(X_train, y_train)\n",
        "\n",
        "#validate the model\n",
        "prediction5=model5.predict(X_test)\n",
        "print(accuracy_score(y_test, prediction5))\n",
        "\n",
        "#Confusion matrix\n",
        "cm=confusion_matrix(y_test,prediction5)\n",
        "print(cm)\n",
        "sns.heatmap(cm,annot=True)\n",
        "\n",
        "print(classification_report(y_test, prediction5))\n"
      ]
    },
    {
      "cell_type": "code",
      "execution_count": null,
      "metadata": {
        "id": "QxdCVXutTC_A",
        "colab": {
          "base_uri": "https://localhost:8080/"
        },
        "outputId": "b4f3fb59-df7d-44b6-e5d6-0183dffa1b68"
      },
      "outputs": [
        {
          "output_type": "execute_result",
          "data": {
            "text/plain": [
              "{'n_neighbors': 8}"
            ]
          },
          "metadata": {},
          "execution_count": 397
        }
      ],
      "source": [
        "#best parameters for KNN classifier\n",
        "model5.best_params_\n"
      ]
    },
    {
      "cell_type": "code",
      "execution_count": null,
      "metadata": {
        "colab": {
          "base_uri": "https://localhost:8080/",
          "height": 295
        },
        "id": "Tmm7u8m6TJnA",
        "outputId": "27781958-f0c5-4e4d-b2d5-154f70a22380"
      },
      "outputs": [
        {
          "output_type": "display_data",
          "data": {
            "text/plain": [
              "<Figure size 432x288 with 1 Axes>"
            ],
            "image/png": "[encoded data removed]"
          },
          "metadata": {
            "needs_background": "light"
          }
        }
      ],
      "source": [
        "# ROC Curve for KNN classifier\n",
        "fpr, tpr,_ = metrics.roc_curve(y_test, prediction5)\n",
        "auc = metrics.roc_auc_score(y_test, prediction5)\n",
        "\n",
        "\n",
        "plt.plot(fpr,tpr,label=\"AUC=\"+str(auc))\n",
        "plt.ylabel('True Positive Rate')\n",
        "plt.xlabel('False Positive Rate')\n",
        "plt.legend(loc=4)\n",
        "plt.title('ROC Curve for KNN')\n",
        "plt.show()"
      ]
    },
    {
      "cell_type": "markdown",
      "metadata": {
        "id": "ibTiknoB71wd"
      },
      "source": [
        "# Random Forest Classifier"
      ]
    },
    {
      "cell_type": "code",
      "execution_count": null,
      "metadata": {
        "id": "bIxb5tuC79Zc"
      },
      "outputs": [],
      "source": [
        "# random forest tuning hyperparameters \n",
        "tuned_parameters = { \n",
        "    'n_estimators': [200, 500],\n",
        "    'max_features': ['auto', 'sqrt', 'log2'],\n",
        "    'max_depth' : [4,5,6,7,8],\n",
        "    'criterion' :['gini', 'entropy']\n",
        "}\n",
        "\n",
        "\n",
        "rfc=RandomForestClassifier(random_state=42,class_weight='balanced')\n",
        "model6 = GridSearchCV(rfc,tuned_parameters, cv= 5,scoring=\"accuracy\")\n",
        "model6.fit(X_train_u, y_train_u)\n",
        "\n",
        "\n",
        "\n",
        "#validate the model\n",
        "prediction6=model6.predict(X_test_u)\n",
        "print(accuracy_score(y_test_u, prediction6))\n",
        "\n",
        "#Confusion matrix\n",
        "cm=confusion_matrix(y_test_u,prediction6)\n",
        "print(cm)\n",
        "sns.heatmap(cm,annot=True)\n",
        "\n",
        "print(classification_report(y_test_u, prediction6))\n",
        "\n"
      ]
    },
    {
      "cell_type": "code",
      "execution_count": null,
      "metadata": {
        "colab": {
          "base_uri": "https://localhost:8080/"
        },
        "id": "ZfmHXOUWE2hk",
        "outputId": "20830c2e-560f-477e-ab1e-3ef1e4b55a7d"
      },
      "outputs": [
        {
          "output_type": "execute_result",
          "data": {
            "text/plain": [
              "{'criterion': 'entropy',\n",
              " 'max_depth': 8,\n",
              " 'max_features': 'auto',\n",
              " 'n_estimators': 500}"
            ]
          },
          "metadata": {},
          "execution_count": 211
        }
      ],
      "source": [
        "#best parameters for RandomForest classifier\n",
        "model6.best_params_\n",
        "\n"
      ]
    },
    {
      "cell_type": "code",
      "execution_count": null,
      "metadata": {
        "colab": {
          "base_uri": "https://localhost:8080/",
          "height": 295
        },
        "id": "igghpnPvErNl",
        "outputId": "1ecb5d77-9af8-4ca9-9c81-96920cc9c503"
      },
      "outputs": [
        {
          "output_type": "display_data",
          "data": {
            "text/plain": [
              "<Figure size 432x288 with 1 Axes>"
            ],
            "image/png": "[encoded data removed]"
          },
          "metadata": {
            "needs_background": "light"
          }
        }
      ],
      "source": [
        "# ROC Curve for RandomForest classifier\n",
        "fpr, tpr,_ = metrics.roc_curve(y_test, prediction6)\n",
        "auc = metrics.roc_auc_score(y_test, prediction6)\n",
        "\n",
        "\n",
        "plt.plot(fpr,tpr,label=\"AUC=\"+str(auc))\n",
        "plt.ylabel('True Positive Rate')\n",
        "plt.xlabel('False Positive Rate')\n",
        "plt.legend(loc=4)\n",
        "plt.title('ROC Curve for Random Forest')\n",
        "plt.show()"
      ]
    },
    {
      "cell_type": "code",
      "source": [
        "def buildModel(optimizer):\n",
        "    # Initialising the ANN\n",
        "    classifier = Sequential()\n",
        "    \n",
        "    # Adding the input layer and the first hidden layer\n",
        "    classifier.add(Dense(units = 128, activation = 'relu'))\n",
        "    \n",
        "    # Adding the second hidden layer\n",
        "    classifier.add(Dense(units = 64, activation = 'relu'))\n",
        "    \n",
        "    \n",
        "    classifier.add(Dense(units = 32, activation = 'relu'))\n",
        "    \n",
        "    # Adding the output layer\n",
        "    classifier.add(Dense(units = 1, activation = 'linear'))\n",
        "    \n",
        "    # Compiling the ANN\n",
        "    classifier.compile(loss='mean_absolute_error', optimizer=optimizer, metrics=['mean_absolute_error'])\n",
        "    \n",
        "    return classifier"
      ],
      "metadata": {
        "id": "UiuxyvX1K4mW"
      },
      "execution_count": null,
      "outputs": []
    },
    {
      "cell_type": "code",
      "execution_count": null,
      "metadata": {
        "id": "6N5A55dmbGBN"
      },
      "outputs": [],
      "source": [
        "#classifier = Sequential()\n",
        "kerasreg= KerasRegressor(build_fn = buildModel)\n",
        "#What hyperparameter we want to play with\n",
        "tuned_parameters = {'batch_size': [16, 32, 64],\n",
        "              'epochs': [80, 100],\n",
        "              'optimizer': ['adam', 'rmsprop']}\n",
        "model7= GridSearchCV(kerasreg,\n",
        "                           param_grid = tuned_parameters,\n",
        "                           scoring = 'neg_mean_absolute_error',\n",
        "                           cv = 5)\n",
        "model7.fit(X_train, y_train, verbose = 0)\n"
      ]
    },
    {
      "cell_type": "markdown",
      "source": [
        "# XGBoost"
      ],
      "metadata": {
        "id": "J66QzPEjb1Ih"
      }
    },
    {
      "cell_type": "code",
      "source": [
        "import os\n",
        "import xgboost as xgb\n",
        "model8 = xgb.XGBClassifier(n_estimators=100, learning_rate=0.08, gamma=0, subsample=0.75,\n",
        "                           colsample_bytree=1, max_depth=7)\n",
        "\n",
        "model8.fit(X_train_u,y_train_u)\n",
        "prediction8 = model8.predict(X_test_u)\n",
        "\n"
      ],
      "metadata": {
        "id": "vBvsuiDkbzrN"
      },
      "execution_count": null,
      "outputs": []
    },
    {
      "cell_type": "code",
      "source": [
        "accuracy_score(y_test_u, prediction8)"
      ],
      "metadata": {
        "colab": {
          "base_uri": "https://localhost:8080/"
        },
        "id": "k5brQcbGcj7h",
        "outputId": "b592a461-7d9e-47de-ec04-da04764adde9"
      },
      "execution_count": null,
      "outputs": [
        {
          "output_type": "execute_result",
          "data": {
            "text/plain": [
              "0.6952337305224565"
            ]
          },
          "metadata": {},
          "execution_count": 170
        }
      ]
    },
    {
      "cell_type": "code",
      "source": [
        "print(classification_report(y_test_u, prediction8))"
      ],
      "metadata": {
        "colab": {
          "base_uri": "https://localhost:8080/"
        },
        "id": "pFdTX-Z1cGy8",
        "outputId": "c4867a3a-c004-41ae-fb26-2681a4c40c42"
      },
      "execution_count": null,
      "outputs": [
        {
          "output_type": "stream",
          "name": "stdout",
          "text": [
            "              precision    recall  f1-score   support\n",
            "\n",
            "           0       0.66      0.80      0.72      1091\n",
            "           1       0.75      0.59      0.66      1091\n",
            "\n",
            "    accuracy                           0.70      2182\n",
            "   macro avg       0.70      0.70      0.69      2182\n",
            "weighted avg       0.70      0.70      0.69      2182\n",
            "\n"
          ]
        }
      ]
    },
    {
      "cell_type": "code",
      "source": [
        "#pip install imbalanced-learn"
      ],
      "metadata": {
        "id": "3WHgaTUCkGc9"
      },
      "execution_count": null,
      "outputs": []
    },
    {
      "cell_type": "code",
      "source": [
        "# ROC Curve for RandomForest classifier\n",
        "fpr, tpr,_ = metrics.roc_curve(y_test_u, prediction8)\n",
        "auc = metrics.roc_auc_score(y_test_u, prediction8)\n",
        "\n",
        "\n",
        "plt.plot(fpr,tpr,label=\"AUC=\"+str(auc))\n",
        "plt.ylabel('True Positive Rate')\n",
        "plt.xlabel('False Positive Rate')\n",
        "plt.legend(loc=4)\n",
        "plt.title('ROC Curve for XG boost')\n",
        "plt.show()"
      ],
      "metadata": {
        "colab": {
          "base_uri": "https://localhost:8080/",
          "height": 295
        },
        "id": "UgGavcGukF1T",
        "outputId": "ce5f42b7-d91c-4f86-a333-1c2ce1dfcf3b"
      },
      "execution_count": null,
      "outputs": [
        {
          "output_type": "display_data",
          "data": {
            "text/plain": [
              "<Figure size 432x288 with 1 Axes>"
            ],
            "image/png": "[encoded data removed]"
          },
          "metadata": {
            "needs_background": "light"
          }
        }
      ]
    },
    {
      "cell_type": "markdown",
      "source": [
        "#Neural Networks"
      ],
      "metadata": {
        "id": "Jeo808Nq7wvH"
      }
    },
    {
      "cell_type": "code",
      "source": [
        "from keras import models\n",
        "from keras import layers\n",
        "\n",
        "number_of_features = X_train_u.shape[1]\n",
        "model11 = Sequential()\n",
        "model11.add(layers.Dense(units=30, activation='relu'))\n",
        "model11.add(layers.Dense(units=15, activation='relu'))\n",
        "model11.add(layers.Dense(units=15, activation='relu'))\n",
        "model11.add(layers.Dense(units=1, activation='sigmoid'))\n",
        "\n",
        "model11.compile(loss='binary_crossentropy', \n",
        "                optimizer='adam',\n",
        "                metrics=['mean_absolute_error'])\n",
        "\n",
        "hist= model11.fit(X_train_u, \n",
        "                      y_train_u, \n",
        "                      epochs=150, \n",
        "                      verbose=1, \n",
        "                      batch_size=100 , validation_data=(X_test_u,y_test_u))\n",
        "\n"
      ],
      "metadata": {
        "id": "J8Jk7ZisuNo5"
      },
      "execution_count": null,
      "outputs": []
    },
    {
      "cell_type": "code",
      "source": [
        "#validate the model\n",
        "yhat_probs = model11.predict(X_test_u, verbose=0)\n",
        "\n",
        "yhat_probs\n",
        "a=[]\n",
        "\n",
        "for i in yhat_probs:\n",
        "  if i < 0.50:\n",
        "    i=0\n",
        "  if i >= 0.50:\n",
        "    i=1\n",
        "  a.append(i)\n",
        "\n"
      ],
      "metadata": {
        "id": "JVyLixrmu2F3"
      },
      "execution_count": null,
      "outputs": []
    },
    {
      "cell_type": "code",
      "source": [
        "\n",
        "print(accuracy_score(y_test_u, a))\n",
        "\n",
        "#Confusion matrix\n",
        "cm=confusion_matrix(y_test_u,a)\n",
        "print(cm)\n",
        "sns.heatmap(cm,annot=True)\n",
        "\n",
        "print(classification_report(y_test_u, a))"
      ],
      "metadata": {
        "colab": {
          "base_uri": "https://localhost:8080/",
          "height": 487
        },
        "id": "N-fe0L9Nzsk7",
        "outputId": "7d7e0ac6-9ee4-4ffc-dc91-36ebeed51fdf"
      },
      "execution_count": null,
      "outputs": [
        {
          "output_type": "stream",
          "name": "stdout",
          "text": [
            "0.6750687442713107\n",
            "[[729 362]\n",
            " [347 744]]\n",
            "              precision    recall  f1-score   support\n",
            "\n",
            "           0       0.68      0.67      0.67      1091\n",
            "           1       0.67      0.68      0.68      1091\n",
            "\n",
            "    accuracy                           0.68      2182\n",
            "   macro avg       0.68      0.68      0.68      2182\n",
            "weighted avg       0.68      0.68      0.68      2182\n",
            "\n"
          ]
        },
        {
          "output_type": "display_data",
          "data": {
            "text/plain": [
              "<Figure size 432x288 with 2 Axes>"
            ],
            "image/png": "[encoded data removed]"
          },
          "metadata": {
            "needs_background": "light"
          }
        }
      ]
    },
    {
      "cell_type": "code",
      "source": [
        "# ROC Curve for RandomForest classifier\n",
        "fpr, tpr,_ = metrics.roc_curve(y_test_u, a)\n",
        "auc = metrics.roc_auc_score(y_test_u, a)\n",
        "\n",
        "\n",
        "plt.plot(fpr,tpr,label=\"AUC=\"+str(auc))\n",
        "plt.ylabel('True Positive Rate')\n",
        "plt.xlabel('False Positive Rate')\n",
        "plt.legend(loc=4)\n",
        "plt.title('ROC Curve for NN')\n",
        "plt.show()\n"
      ],
      "metadata": {
        "colab": {
          "base_uri": "https://localhost:8080/",
          "height": 295
        },
        "id": "IJZ-4pmi14rk",
        "outputId": "6f437cef-a5d7-4df5-f4f1-572e25860cce"
      },
      "execution_count": null,
      "outputs": [
        {
          "output_type": "display_data",
          "data": {
            "text/plain": [
              "<Figure size 432x288 with 1 Axes>"
            ],
            "image/png": "[encoded data removed]"
          },
          "metadata": {
            "needs_background": "light"
          }
        }
      ]
    },
    {
      "cell_type": "code",
      "source": [
        "\n",
        "\n",
        "X_train_scaled.drop(['job_management', 'job_technician', 'job_entrepreneur',\n",
        "       'job_blue-collar', 'job_retired',\n",
        "       'job_services', 'job_self-employed', 'job_unemployed',\n",
        "       'job_housemaid', 'job_student'],axis=1,inplace=True)\n",
        "\n"
      ],
      "metadata": {
        "id": "DW8Co267tn4u"
      },
      "execution_count": null,
      "outputs": []
    },
    {
      "cell_type": "code",
      "source": [
        "X_train_scaled.drop(['marital_married', 'marital_single'],axis=1,inplace=True)"
      ],
      "metadata": {
        "id": "r79kx8eitvuQ"
      },
      "execution_count": null,
      "outputs": []
    },
    {
      "cell_type": "code",
      "source": [
        "X_train_scaled.drop([ 'default_yes'],axis=1,inplace=True)\n"
      ],
      "metadata": {
        "id": "FE2dUXCrt4jF"
      },
      "execution_count": null,
      "outputs": []
    },
    {
      "cell_type": "code",
      "source": [
        "X_test_scaled.drop(['job_management', 'job_technician', 'job_entrepreneur',\n",
        "       'job_blue-collar', 'job_retired',\n",
        "       'job_services', 'job_self-employed', 'job_unemployed',\n",
        "       'job_housemaid', 'job_student'],axis=1,inplace=True)"
      ],
      "metadata": {
        "id": "_eyKA1nouAEK"
      },
      "execution_count": null,
      "outputs": []
    },
    {
      "cell_type": "code",
      "source": [
        "X_test_scaled.drop(['marital_married', 'marital_single'],axis=1,inplace=True)"
      ],
      "metadata": {
        "id": "SArUTfzWuH-i"
      },
      "execution_count": null,
      "outputs": []
    },
    {
      "cell_type": "code",
      "source": [
        "X_test_scaled.drop([ 'default_yes'],axis=1,inplace=True)"
      ],
      "metadata": {
        "id": "6nZNdIIvuLcV"
      },
      "execution_count": null,
      "outputs": []
    },
    {
      "cell_type": "code",
      "source": [
        "from sklearn.ensemble import RandomForestClassifier\n",
        "clf = RandomForestClassifier(n_estimators=20, random_state=0)\n",
        "clf.fit(X_train_scaled,y_res)\n",
        "y_pred = clf.predict(X_test_scaled)\n",
        "\n",
        "\n",
        "from sklearn.metrics import classification_report, confusion_matrix, accuracy_score\n",
        "\n",
        "print(confusion_matrix(y_test,y_pred))  \n",
        "print(classification_report(y_test,y_pred))  \n",
        "print(accuracy_score(y_test, y_pred))"
      ],
      "metadata": {
        "colab": {
          "base_uri": "https://localhost:8080/"
        },
        "id": "r7unf1MStPKU",
        "outputId": "7d4762e6-3c5f-4376-ea79-3a6e25f31057"
      },
      "execution_count": null,
      "outputs": [
        {
          "output_type": "stream",
          "name": "stdout",
          "text": [
            "[[5898 1284]\n",
            " [ 449  375]]\n",
            "              precision    recall  f1-score   support\n",
            "\n",
            "           0       0.93      0.82      0.87      7182\n",
            "           1       0.23      0.46      0.30       824\n",
            "\n",
            "    accuracy                           0.78      8006\n",
            "   macro avg       0.58      0.64      0.59      8006\n",
            "weighted avg       0.86      0.78      0.81      8006\n",
            "\n",
            "0.7835373469897576\n"
          ]
        }
      ]
    },
    {
      "cell_type": "code",
      "source": [
        "\n",
        "\n",
        "from sklearn.linear_model import LogisticRegression\n",
        "\n",
        "lr = LogisticRegression()\n",
        "lr.fit(X_train_scaled, y_res)\n",
        "y_pred = lr.predict(X_test_scaled)\n",
        "\n"
      ],
      "metadata": {
        "id": "Xm_w4f8duXE2"
      },
      "execution_count": null,
      "outputs": []
    },
    {
      "cell_type": "code",
      "source": [
        "print(confusion_matrix(y_test,y_pred))\n",
        "print(accuracy_score(y_test,y_pred))\n",
        "print(classification_report(y_test,y_pred))"
      ],
      "metadata": {
        "colab": {
          "base_uri": "https://localhost:8080/"
        },
        "id": "42dAw4obulSZ",
        "outputId": "a05a4e04-8551-4fa9-f233-514a15b23243"
      },
      "execution_count": null,
      "outputs": [
        {
          "output_type": "stream",
          "name": "stdout",
          "text": [
            "[[3848 3334]\n",
            " [ 248  576]]\n",
            "0.5525855608293779\n",
            "              precision    recall  f1-score   support\n",
            "\n",
            "           0       0.94      0.54      0.68      7182\n",
            "           1       0.15      0.70      0.24       824\n",
            "\n",
            "    accuracy                           0.55      8006\n",
            "   macro avg       0.54      0.62      0.46      8006\n",
            "weighted avg       0.86      0.55      0.64      8006\n",
            "\n"
          ]
        }
      ]
    }
  ],
  "metadata": {
    "colab": {
      "collapsed_sections": [],
      "name": "Fatima-Team4.ipynb",
      "provenance": []
    },
    "kernelspec": {
      "display_name": "Python 3",
      "name": "python3"
    },
    "language_info": {
      "name": "python"
    }
  },
  "nbformat": 4,
  "nbformat_minor": 0
}